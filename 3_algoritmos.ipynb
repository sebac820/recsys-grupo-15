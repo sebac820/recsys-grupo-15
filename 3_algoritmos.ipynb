{
 "cells": [
  {
   "cell_type": "markdown",
   "metadata": {},
   "source": [
    "# Librerías"
   ]
  },
  {
   "cell_type": "code",
   "execution_count": null,
   "metadata": {},
   "outputs": [],
   "source": [
    "from collections import defaultdict\n",
    "import pandas as pd\n",
    "import ipywidgets as widgets\n",
    "from sklearn.metrics import pairwise_distances\n",
    "import heapq\n",
    "import numpy as np\n",
    "import random as rd"
   ]
  },
  {
   "cell_type": "markdown",
   "metadata": {},
   "source": [
    "# Importar datos preprocesados"
   ]
  },
  {
   "cell_type": "code",
   "execution_count": null,
   "metadata": {},
   "outputs": [],
   "source": [
    "track_features = pd.read_csv('./data/processed_track_features.csv')\n",
    "sessions = pd.read_csv('./data/processed_sessions.csv')\n",
    "display(track_features.head(3))\n",
    "display(sessions.head(3))"
   ]
  },
  {
   "cell_type": "code",
   "execution_count": null,
   "metadata": {},
   "outputs": [],
   "source": [
    "track_features_embedding = track_features.drop(labels=\"track_id\", axis=1)"
   ]
  },
  {
   "cell_type": "code",
   "execution_count": null,
   "metadata": {},
   "outputs": [],
   "source": [
    "idx_to_track_id = {i: id_ for i, id_ in enumerate(track_features.track_id)}\n",
    "track_id_to_idx = {id_:i for i, id_ in enumerate(track_features.track_id)}"
   ]
  },
  {
   "cell_type": "code",
   "execution_count": null,
   "metadata": {},
   "outputs": [],
   "source": [
    "idx_to_sessions_id = {i: id_ for i, id_ in enumerate(sessions.session_id)}\n",
    "sessions_id_to_idx = {id_:i for i, id_ in enumerate(sessions.session_id)}"
   ]
  },
  {
   "cell_type": "markdown",
   "metadata": {},
   "source": [
    "# Nuestro modelo"
   ]
  },
  {
   "cell_type": "markdown",
   "metadata": {},
   "source": [
    "# Crear Top N verdadero por usuario"
   ]
  },
  {
   "cell_type": "code",
   "execution_count": null,
   "metadata": {},
   "outputs": [],
   "source": [
    "# top_n_verdadero_por_usuario es un diccionario de la forma\n",
    "# {usuario1: [canción1, canción2, ...], usuario2: [canción3, canción4,...], ...}\n",
    "# que contiene las canciones con las que ha interactuado un usuario. Consideraremos que si el\n",
    "# usuario ha interactuado con la canción, entonces la canción es relevante para el usuario.\n",
    "# top_n_verdadero_por_usuario = defaultdict(list)\n",
    "# for i in range(len(sessions)):\n",
    "#     fila = sessions.iloc[i, :]\n",
    "#     top_n_verdadero_por_usuario[fila['session_id']].append(fila['track_id'])\n",
    "\n"
   ]
  },
  {
   "cell_type": "markdown",
   "metadata": {},
   "source": [
    "Basado en práctico Content Based (Texto) (https://github.com/PUC-RecSys-Class/RecSysPUC-2022/blob/master/practicos/Content_Based_texto.ipynb)"
   ]
  },
  {
   "cell_type": "code",
   "execution_count": null,
   "metadata": {},
   "outputs": [],
   "source": [
    "def find_similar_songs(sessions, track_features, alpha, beta, session_id=None, metric='euclidean', topk=5):\n",
    "    \n",
    "    session_tracks = sessions[sessions.session_id == session_id]\n",
    "    tracks_played = session_tracks.merge(track_features, left_on=\"track_id\", right_on=\"track_id\")\n",
    "    tracks_not_played = track_features[~track_features.track_id.isin(tracks_played)]\n",
    "    initial_track = np.array(tracks_played.iloc[0].drop(labels=[\"session_id\", \"track_id\", \"not_skipped\"]))\n",
    "    \n",
    "    embedding = tracks_not_played.drop(labels=\"track_id\", axis=1).values\n",
    "    not_played_distances = pairwise_distances(initial_track.reshape(1,-1), embedding, metric=metric)\n",
    "    tracks_not_played[\"distance\"] = not_played_distances[0]\n",
    "    tracks_not_played.sort_values(by=[\"distance\"])\n",
    "    \n",
    "    embedding= tracks_played.drop(labels=[\"session_id\", \"track_id\", \"not_skipped\"], axis=1).values\n",
    "    played_distances = pairwise_distances(initial_track.reshape(1,-1), embedding, metric=metric)\n",
    "    tracks_played[\"distance\"] = played_distances[0]\n",
    "    tracks_played.sort_values(by=[\"distance\"])\n",
    "    \n",
    "    rec = []\n",
    "    \n",
    "    for i in range(topk):\n",
    "        # No escuchados\n",
    "        if rd.random() < alpha:\n",
    "            loc = int(beta*len(tracks_not_played)//1)\n",
    "            track = tracks_not_played.iloc[loc]\n",
    "            while track.track_id in rec:\n",
    "                loc += 1\n",
    "                track = tracks_not_played.iloc[loc]\n",
    "            rec.append(track.track_id)\n",
    "        # Ya escuchados\n",
    "        else:\n",
    "            loc = int(beta*len(tracks_played)//1)\n",
    "            if loc == 0:\n",
    "                loc += 1\n",
    "            track = tracks_played.iloc[loc]\n",
    "            while track.track_id in rec:\n",
    "                loc += 1\n",
    "                track = tracks_played.iloc[loc]\n",
    "            rec.append(track.track_id)\n",
    "    \n",
    "    return rec"
   ]
  },
  {
   "cell_type": "code",
   "execution_count": null,
   "metadata": {},
   "outputs": [],
   "source": [
    "random_session = rd.choice(sessions.session_id.unique())\n",
    "random_session"
   ]
  },
  {
   "cell_type": "code",
   "execution_count": null,
   "metadata": {},
   "outputs": [],
   "source": [
    "alpha = widgets.FloatSlider(min=0, max=1, step=0.01, description=\"alpha\")\n",
    "beta = widgets.FloatSlider(min=0, max=1, step=0.01, description=\"beta\")\n",
    "display(alpha)\n",
    "display(beta)"
   ]
  },
  {
   "cell_type": "code",
   "execution_count": 88,
   "metadata": {},
   "outputs": [
    {
     "data": {
      "text/plain": [
       "['t_90ddd0d7-1784-4c49-9907-8d7f39be5266',\n",
       " 't_bc88c565-06bf-4df1-83b6-fa07a18ac4ab',\n",
       " 't_77d294e7-5f3a-45a4-8c38-a8aacad2e4c1',\n",
       " 't_0340fe26-f946-40b5-90f0-928349402ce3',\n",
       " 't_305127ff-ba67-456b-8e0d-ef01b0cc8db0']"
      ]
     },
     "execution_count": 88,
     "metadata": {},
     "output_type": "execute_result"
    }
   ],
   "source": [
    "rec = find_similar_songs(sessions, track_features, alpha.value, beta.value, session_id=random_session, \\\n",
    "                         metric='euclidean', topk=5)\n",
    "rec"
   ]
  },
  {
   "cell_type": "code",
   "execution_count": 91,
   "metadata": {},
   "outputs": [
    {
     "data": {
      "text/plain": [
       "['t_90ddd0d7-1784-4c49-9907-8d7f39be5266',\n",
       " 't_bc88c565-06bf-4df1-83b6-fa07a18ac4ab',\n",
       " 't_77d294e7-5f3a-45a4-8c38-a8aacad2e4c1',\n",
       " 't_5186d6d8-934d-4acc-bf63-7638020992c3',\n",
       " 't_321167f2-42d3-4783-8687-157b7790f61a']"
      ]
     },
     "execution_count": 91,
     "metadata": {},
     "output_type": "execute_result"
    }
   ],
   "source": [
    "rec = find_similar_songs(sessions, track_features, alpha.value, beta.value, session_id=random_session, \\\n",
    "                         metric='cosine', topk=5)\n",
    "rec"
   ]
  }
 ],
 "metadata": {
  "kernelspec": {
   "display_name": "Python 3",
   "language": "python",
   "name": "python3"
  },
  "language_info": {
   "codemirror_mode": {
    "name": "ipython",
    "version": 3
   },
   "file_extension": ".py",
   "mimetype": "text/x-python",
   "name": "python",
   "nbconvert_exporter": "python",
   "pygments_lexer": "ipython3",
   "version": "3.8.4"
  },
  "vscode": {
   "interpreter": {
    "hash": "f285bb5f8983d1aafa033d6733ae0de2189f69ae4c0ee5aa1b3ca39129c61fab"
   }
  }
 },
 "nbformat": 4,
 "nbformat_minor": 2
}
