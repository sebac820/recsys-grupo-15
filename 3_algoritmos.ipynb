{
 "cells": [
  {
   "cell_type": "markdown",
   "metadata": {},
   "source": [
    "# Librerías"
   ]
  },
  {
   "cell_type": "code",
   "execution_count": null,
   "metadata": {},
   "outputs": [],
   "source": [
    "from collections import defaultdict\n",
    "import pandas as pd\n",
    "import recommenders"
   ]
  },
  {
   "cell_type": "markdown",
   "metadata": {},
   "source": [
    "# Importar datos preprocesados"
   ]
  },
  {
   "cell_type": "code",
   "execution_count": null,
   "metadata": {},
   "outputs": [],
   "source": [
    "track_features = pd.read_csv('./data/processed_track_features.csv')\n",
    "sessions = pd.read_csv('./data/processed_sessions.csv')\n",
    "display(track_features.head(3))"
   ]
  },
  {
   "cell_type": "markdown",
   "metadata": {},
   "source": [
    "# Nuestro modelo"
   ]
  },
  {
   "cell_type": "markdown",
   "metadata": {},
   "source": [
    "# Crear Top N verdadero por usuario"
   ]
  },
  {
   "cell_type": "code",
   "execution_count": null,
   "metadata": {},
   "outputs": [],
   "source": [
    "# top_n_verdadero_por_usuario es un diccionario de la forma\n",
    "# {usuario1: [canción1, canción2, ...], usuario2: [canción3, canción4,...], ...}\n",
    "# que contiene las canciones con las que ha interactuado un usuario. Consideraremos que si el\n",
    "# usuario ha interactuado con la canción, entonces la canción es relevante para el usuario.\n",
    "# top_n_verdadero_por_usuario = defaultdict(list)\n",
    "# for i in range(len(sessions)):\n",
    "#     fila = sessions.iloc[i, :]\n",
    "#     top_n_verdadero_por_usuario[fila['session_id']].append(fila['track_id'])"
   ]
  }
 ],
 "metadata": {
  "kernelspec": {
   "display_name": "Python 3.8.10 64-bit",
   "language": "python",
   "name": "python3"
  },
  "language_info": {
   "codemirror_mode": {
    "name": "ipython",
    "version": 3
   },
   "file_extension": ".py",
   "mimetype": "text/x-python",
   "name": "python",
   "nbconvert_exporter": "python",
   "pygments_lexer": "ipython3",
   "version": "3.8.10"
  },
  "orig_nbformat": 4,
  "vscode": {
   "interpreter": {
    "hash": "f285bb5f8983d1aafa033d6733ae0de2189f69ae4c0ee5aa1b3ca39129c61fab"
   }
  }
 },
 "nbformat": 4,
 "nbformat_minor": 2
}
