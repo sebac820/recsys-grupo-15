{
 "cells": [
  {
   "cell_type": "markdown",
   "metadata": {},
   "source": [
    "# Librerías a utilizar"
   ]
  },
  {
   "cell_type": "code",
   "execution_count": null,
   "metadata": {},
   "outputs": [],
   "source": [
    "from funciones_auxiliares import configurar_pyplot\n",
    "import matplotlib.pyplot as plt\n",
    "import numpy as np\n",
    "import pandas as pd"
   ]
  },
  {
   "cell_type": "markdown",
   "metadata": {},
   "source": [
    "# Importar datos"
   ]
  },
  {
   "cell_type": "markdown",
   "metadata": {},
   "source": [
    "Inicialmente, los datasets se ven como sigue:"
   ]
  },
  {
   "cell_type": "code",
   "execution_count": null,
   "metadata": {},
   "outputs": [],
   "source": [
    "track_features = pd.read_csv('data/tf_mini.csv')\n",
    "print('Dataset Track Features:')\n",
    "print('- Filas:', track_features.shape[0])\n",
    "print('- Columnas:', track_features.shape[1])\n",
    "print('- Datos nulos:', track_features.isna().sum().sum())\n",
    "display(track_features.head(3))"
   ]
  },
  {
   "cell_type": "code",
   "execution_count": null,
   "metadata": {},
   "outputs": [],
   "source": [
    "sessions = pd.read_csv('data/log_mini.csv')\n",
    "print('Dataset Sessions:')\n",
    "print('- Filas:', sessions.shape[0])\n",
    "print('- Columnas:', sessions.shape[1])\n",
    "print('- Datos nulos:', sessions.isna().sum().sum())\n",
    "display(sessions.head(3))"
   ]
  },
  {
   "cell_type": "code",
   "execution_count": null,
   "metadata": {},
   "outputs": [],
   "source": [
    "spotify_songs = pd.read_csv('data/spotify_songs.csv')\n",
    "print('Dataset Spotify Songs:')\n",
    "print('- Filas:', spotify_songs.shape[0])\n",
    "print('- Columnas:', spotify_songs.shape[1], spotify_songs.columns)\n",
    "print('- Datos nulos:', spotify_songs.isna().sum().sum())\n",
    "display(spotify_songs.head(3))"
   ]
  },
  {
   "cell_type": "markdown",
   "metadata": {},
   "source": [
    "# Análisis"
   ]
  },
  {
   "cell_type": "markdown",
   "metadata": {},
   "source": [
    "Cantidad de canciones por año de lanzamiento en `track_features`:"
   ]
  },
  {
   "cell_type": "code",
   "execution_count": null,
   "metadata": {},
   "outputs": [],
   "source": [
    "configurar_pyplot(xlabel='Cantidad de canciones', ylabel='Año de lanzamiento')\n",
    "plt.hist(x=track_features['release_year'], bins=20)"
   ]
  },
  {
   "cell_type": "markdown",
   "metadata": {},
   "source": [
    "Cantidad de canciones por año de lanzamiento en `spotify_songs`:"
   ]
  },
  {
   "cell_type": "code",
   "execution_count": null,
   "metadata": {},
   "outputs": [],
   "source": [
    "configurar_pyplot(xlabel='Cantidad de canciones', ylabel='Año de lanzamiento')\n",
    "plt.hist(x=spotify_songs[spotify_songs['year'] > 0]['year'], bins=40)"
   ]
  },
  {
   "cell_type": "markdown",
   "metadata": {},
   "source": [
    "Cantidad de sesiones con una determinada cantidad de reproducciones:"
   ]
  },
  {
   "cell_type": "code",
   "execution_count": null,
   "metadata": {},
   "outputs": [],
   "source": [
    "cantidades = sessions\n",
    "cantidades.loc[:, 'cuenta_1'] = 1\n",
    "cantidades.loc[:, 'cuenta_2'] = 1\n",
    "cantidades = cantidades.groupby('session_id').count().groupby('cuenta_1').count()['cuenta_2']\n",
    "configurar_pyplot(xlabel='Cantidad de reproducciones', ylabel='Cantidad de sesiones')\n",
    "plt.bar(x=np.arange(len(cantidades)), height=cantidades, tick_label=cantidades.index)"
   ]
  },
  {
   "cell_type": "markdown",
   "metadata": {},
   "source": [
    "Cantidad de canciones con una determinada cantidad de reproducciones:"
   ]
  },
  {
   "cell_type": "code",
   "execution_count": null,
   "metadata": {},
   "outputs": [],
   "source": [
    "cantidades = sessions\n",
    "cantidades.loc[:, 'cuenta_1'] = 1\n",
    "cantidades.loc[:, 'cuenta_2'] = 1\n",
    "cantidades = cantidades.groupby('track_id_clean').count().groupby('cuenta_1').count()[['cuenta_2']]\n",
    "N = 20\n",
    "N_o_mas = cantidades.loc[N:, :].sum().values[0]\n",
    "cantidades = cantidades.loc[:N-1, :]\n",
    "cantidades.loc[f'{N}+', 'cuenta_2'] = N_o_mas\n",
    "cantidades = cantidades['cuenta_2']\n",
    "configurar_pyplot(xlabel='Cantidad de reproducciones', ylabel='Cantidad de canciones')\n",
    "plt.bar(x=np.arange(len(cantidades)), height=cantidades, tick_label=cantidades.index)"
   ]
  },
  {
   "cell_type": "markdown",
   "metadata": {},
   "source": [
    "Resumen del dataset `sessions`:"
   ]
  },
  {
   "cell_type": "code",
   "execution_count": null,
   "metadata": {},
   "outputs": [],
   "source": [
    "resumen = pd.DataFrame()\n",
    "resumen.loc['Usuarios', 'Valor'] = sessions['session_id'].nunique()\n",
    "resumen.loc['Canciones', 'Valor'] = track_features['track_id'].nunique()\n",
    "canciones_por_usuario = sessions.groupby('session_id').count().iloc[:, 0]\n",
    "resumen.loc['Promedio de canciones por usuario', 'Valor'] = canciones_por_usuario.mean()\n",
    "resumen.loc['Desviación estándar de canciones por usuario', 'Valor'] = canciones_por_usuario.std()\n",
    "usuarios_por_cancion = sessions.groupby('track_id_clean').count().iloc[:, 0]\n",
    "resumen.loc['Promedio de usuarios por canción', 'Valor'] = usuarios_por_cancion.mean()\n",
    "resumen.loc['Desviación estándar de usuarios por canción', 'Valor'] = usuarios_por_cancion.std()\n",
    "resumen.loc['Densidad del conjunto de datos', 'Valor'] = (\n",
    "    sessions[['session_id', 'track_id_clean']].drop_duplicates().shape[0]\n",
    "    /\n",
    "    (sessions['session_id'].nunique() * sessions['track_id_clean'].nunique())\n",
    ")\n",
    "resumen"
   ]
  }
 ],
 "metadata": {
  "kernelspec": {
   "display_name": "Python 3.8.10 64-bit",
   "language": "python",
   "name": "python3"
  },
  "language_info": {
   "codemirror_mode": {
    "name": "ipython",
    "version": 3
   },
   "file_extension": ".py",
   "mimetype": "text/x-python",
   "name": "python",
   "nbconvert_exporter": "python",
   "pygments_lexer": "ipython3",
   "version": "3.8.10"
  },
  "orig_nbformat": 4,
  "vscode": {
   "interpreter": {
    "hash": "f285bb5f8983d1aafa033d6733ae0de2189f69ae4c0ee5aa1b3ca39129c61fab"
   }
  }
 },
 "nbformat": 4,
 "nbformat_minor": 2
}
