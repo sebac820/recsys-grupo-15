{
 "cells": [
  {
   "cell_type": "markdown",
   "metadata": {},
   "source": [
    "# Librerías a utilizar"
   ]
  },
  {
   "cell_type": "code",
   "execution_count": 1,
   "metadata": {},
   "outputs": [],
   "source": [
    "from funciones_auxiliares import configurar_pyplot\n",
    "import matplotlib.pyplot as plt\n",
    "import numpy as np\n",
    "import pandas as pd"
   ]
  },
  {
   "cell_type": "markdown",
   "metadata": {},
   "source": [
    "# Importar datos"
   ]
  },
  {
   "cell_type": "markdown",
   "metadata": {},
   "source": [
    "Inicialmente, los datasets se ven como sigue:"
   ]
  },
  {
   "cell_type": "code",
   "execution_count": 2,
   "metadata": {},
   "outputs": [
    {
     "name": "stdout",
     "output_type": "stream",
     "text": [
      "Dataset Track Features:\n",
      "- Filas: 50704\n",
      "- Columnas: 30\n",
      "- Datos nulos: 0\n"
     ]
    },
    {
     "data": {
      "text/html": [
       "<div>\n",
       "<style scoped>\n",
       "    .dataframe tbody tr th:only-of-type {\n",
       "        vertical-align: middle;\n",
       "    }\n",
       "\n",
       "    .dataframe tbody tr th {\n",
       "        vertical-align: top;\n",
       "    }\n",
       "\n",
       "    .dataframe thead th {\n",
       "        text-align: right;\n",
       "    }\n",
       "</style>\n",
       "<table border=\"1\" class=\"dataframe\">\n",
       "  <thead>\n",
       "    <tr style=\"text-align: right;\">\n",
       "      <th></th>\n",
       "      <th>track_id</th>\n",
       "      <th>duration</th>\n",
       "      <th>release_year</th>\n",
       "      <th>us_popularity_estimate</th>\n",
       "      <th>acousticness</th>\n",
       "      <th>beat_strength</th>\n",
       "      <th>bounciness</th>\n",
       "      <th>danceability</th>\n",
       "      <th>dyn_range_mean</th>\n",
       "      <th>energy</th>\n",
       "      <th>...</th>\n",
       "      <th>time_signature</th>\n",
       "      <th>valence</th>\n",
       "      <th>acoustic_vector_0</th>\n",
       "      <th>acoustic_vector_1</th>\n",
       "      <th>acoustic_vector_2</th>\n",
       "      <th>acoustic_vector_3</th>\n",
       "      <th>acoustic_vector_4</th>\n",
       "      <th>acoustic_vector_5</th>\n",
       "      <th>acoustic_vector_6</th>\n",
       "      <th>acoustic_vector_7</th>\n",
       "    </tr>\n",
       "  </thead>\n",
       "  <tbody>\n",
       "    <tr>\n",
       "      <th>0</th>\n",
       "      <td>t_a540e552-16d4-42f8-a185-232bd650ea7d</td>\n",
       "      <td>109.706673</td>\n",
       "      <td>1950</td>\n",
       "      <td>99.975414</td>\n",
       "      <td>0.458040</td>\n",
       "      <td>0.519497</td>\n",
       "      <td>0.504949</td>\n",
       "      <td>0.399767</td>\n",
       "      <td>7.511880</td>\n",
       "      <td>0.817709</td>\n",
       "      <td>...</td>\n",
       "      <td>4</td>\n",
       "      <td>0.935512</td>\n",
       "      <td>-0.033284</td>\n",
       "      <td>-0.411896</td>\n",
       "      <td>-0.028580</td>\n",
       "      <td>0.349438</td>\n",
       "      <td>0.832467</td>\n",
       "      <td>-0.213871</td>\n",
       "      <td>-0.299464</td>\n",
       "      <td>-0.675907</td>\n",
       "    </tr>\n",
       "    <tr>\n",
       "      <th>1</th>\n",
       "      <td>t_67965da0-132b-4b1e-8a69-0ef99b32287c</td>\n",
       "      <td>187.693329</td>\n",
       "      <td>1950</td>\n",
       "      <td>99.969430</td>\n",
       "      <td>0.916272</td>\n",
       "      <td>0.419223</td>\n",
       "      <td>0.545530</td>\n",
       "      <td>0.491235</td>\n",
       "      <td>9.098376</td>\n",
       "      <td>0.154258</td>\n",
       "      <td>...</td>\n",
       "      <td>3</td>\n",
       "      <td>0.359675</td>\n",
       "      <td>0.145703</td>\n",
       "      <td>-0.850372</td>\n",
       "      <td>0.123860</td>\n",
       "      <td>0.746904</td>\n",
       "      <td>0.371803</td>\n",
       "      <td>-0.420558</td>\n",
       "      <td>-0.213120</td>\n",
       "      <td>-0.525795</td>\n",
       "    </tr>\n",
       "    <tr>\n",
       "      <th>2</th>\n",
       "      <td>t_0614ecd3-a7d5-40a1-816e-156d5872a467</td>\n",
       "      <td>160.839996</td>\n",
       "      <td>1951</td>\n",
       "      <td>99.602549</td>\n",
       "      <td>0.812884</td>\n",
       "      <td>0.425890</td>\n",
       "      <td>0.508280</td>\n",
       "      <td>0.491625</td>\n",
       "      <td>8.368670</td>\n",
       "      <td>0.358813</td>\n",
       "      <td>...</td>\n",
       "      <td>4</td>\n",
       "      <td>0.726769</td>\n",
       "      <td>0.021720</td>\n",
       "      <td>-0.743634</td>\n",
       "      <td>0.333247</td>\n",
       "      <td>0.568447</td>\n",
       "      <td>0.411094</td>\n",
       "      <td>-0.187749</td>\n",
       "      <td>-0.387599</td>\n",
       "      <td>-0.433496</td>\n",
       "    </tr>\n",
       "  </tbody>\n",
       "</table>\n",
       "<p>3 rows × 30 columns</p>\n",
       "</div>"
      ],
      "text/plain": [
       "                                 track_id    duration  release_year  \\\n",
       "0  t_a540e552-16d4-42f8-a185-232bd650ea7d  109.706673          1950   \n",
       "1  t_67965da0-132b-4b1e-8a69-0ef99b32287c  187.693329          1950   \n",
       "2  t_0614ecd3-a7d5-40a1-816e-156d5872a467  160.839996          1951   \n",
       "\n",
       "   us_popularity_estimate  acousticness  beat_strength  bounciness  \\\n",
       "0               99.975414      0.458040       0.519497    0.504949   \n",
       "1               99.969430      0.916272       0.419223    0.545530   \n",
       "2               99.602549      0.812884       0.425890    0.508280   \n",
       "\n",
       "   danceability  dyn_range_mean    energy  ...  time_signature   valence  \\\n",
       "0      0.399767        7.511880  0.817709  ...               4  0.935512   \n",
       "1      0.491235        9.098376  0.154258  ...               3  0.359675   \n",
       "2      0.491625        8.368670  0.358813  ...               4  0.726769   \n",
       "\n",
       "   acoustic_vector_0  acoustic_vector_1  acoustic_vector_2  acoustic_vector_3  \\\n",
       "0          -0.033284          -0.411896          -0.028580           0.349438   \n",
       "1           0.145703          -0.850372           0.123860           0.746904   \n",
       "2           0.021720          -0.743634           0.333247           0.568447   \n",
       "\n",
       "  acoustic_vector_4  acoustic_vector_5  acoustic_vector_6  acoustic_vector_7  \n",
       "0          0.832467          -0.213871          -0.299464          -0.675907  \n",
       "1          0.371803          -0.420558          -0.213120          -0.525795  \n",
       "2          0.411094          -0.187749          -0.387599          -0.433496  \n",
       "\n",
       "[3 rows x 30 columns]"
      ]
     },
     "metadata": {},
     "output_type": "display_data"
    }
   ],
   "source": [
    "track_features = pd.read_csv('data/tf_mini.csv')\n",
    "print('Dataset Track Features:')\n",
    "print('- Filas:', track_features.shape[0])\n",
    "print('- Columnas:', track_features.shape[1])\n",
    "print('- Datos nulos:', track_features.isna().sum().sum())\n",
    "display(track_features.head(3))"
   ]
  },
  {
   "cell_type": "code",
   "execution_count": 3,
   "metadata": {},
   "outputs": [
    {
     "name": "stdout",
     "output_type": "stream",
     "text": [
      "Dataset Sessions:\n",
      "- Filas: 167880\n",
      "- Columnas: 21\n",
      "- Datos nulos: 0\n"
     ]
    },
    {
     "data": {
      "text/html": [
       "<div>\n",
       "<style scoped>\n",
       "    .dataframe tbody tr th:only-of-type {\n",
       "        vertical-align: middle;\n",
       "    }\n",
       "\n",
       "    .dataframe tbody tr th {\n",
       "        vertical-align: top;\n",
       "    }\n",
       "\n",
       "    .dataframe thead th {\n",
       "        text-align: right;\n",
       "    }\n",
       "</style>\n",
       "<table border=\"1\" class=\"dataframe\">\n",
       "  <thead>\n",
       "    <tr style=\"text-align: right;\">\n",
       "      <th></th>\n",
       "      <th>session_id</th>\n",
       "      <th>session_position</th>\n",
       "      <th>session_length</th>\n",
       "      <th>track_id_clean</th>\n",
       "      <th>skip_1</th>\n",
       "      <th>skip_2</th>\n",
       "      <th>skip_3</th>\n",
       "      <th>not_skipped</th>\n",
       "      <th>context_switch</th>\n",
       "      <th>no_pause_before_play</th>\n",
       "      <th>...</th>\n",
       "      <th>long_pause_before_play</th>\n",
       "      <th>hist_user_behavior_n_seekfwd</th>\n",
       "      <th>hist_user_behavior_n_seekback</th>\n",
       "      <th>hist_user_behavior_is_shuffle</th>\n",
       "      <th>hour_of_day</th>\n",
       "      <th>date</th>\n",
       "      <th>premium</th>\n",
       "      <th>context_type</th>\n",
       "      <th>hist_user_behavior_reason_start</th>\n",
       "      <th>hist_user_behavior_reason_end</th>\n",
       "    </tr>\n",
       "  </thead>\n",
       "  <tbody>\n",
       "    <tr>\n",
       "      <th>0</th>\n",
       "      <td>0_00006f66-33e5-4de7-a324-2d18e439fc1e</td>\n",
       "      <td>1</td>\n",
       "      <td>20</td>\n",
       "      <td>t_0479f24c-27d2-46d6-a00c-7ec928f2b539</td>\n",
       "      <td>False</td>\n",
       "      <td>False</td>\n",
       "      <td>False</td>\n",
       "      <td>True</td>\n",
       "      <td>0</td>\n",
       "      <td>0</td>\n",
       "      <td>...</td>\n",
       "      <td>0</td>\n",
       "      <td>0</td>\n",
       "      <td>0</td>\n",
       "      <td>True</td>\n",
       "      <td>16</td>\n",
       "      <td>2018-07-15</td>\n",
       "      <td>True</td>\n",
       "      <td>editorial_playlist</td>\n",
       "      <td>trackdone</td>\n",
       "      <td>trackdone</td>\n",
       "    </tr>\n",
       "    <tr>\n",
       "      <th>1</th>\n",
       "      <td>0_00006f66-33e5-4de7-a324-2d18e439fc1e</td>\n",
       "      <td>2</td>\n",
       "      <td>20</td>\n",
       "      <td>t_9099cd7b-c238-47b7-9381-f23f2c1d1043</td>\n",
       "      <td>False</td>\n",
       "      <td>False</td>\n",
       "      <td>False</td>\n",
       "      <td>True</td>\n",
       "      <td>0</td>\n",
       "      <td>1</td>\n",
       "      <td>...</td>\n",
       "      <td>0</td>\n",
       "      <td>0</td>\n",
       "      <td>0</td>\n",
       "      <td>True</td>\n",
       "      <td>16</td>\n",
       "      <td>2018-07-15</td>\n",
       "      <td>True</td>\n",
       "      <td>editorial_playlist</td>\n",
       "      <td>trackdone</td>\n",
       "      <td>trackdone</td>\n",
       "    </tr>\n",
       "    <tr>\n",
       "      <th>2</th>\n",
       "      <td>0_00006f66-33e5-4de7-a324-2d18e439fc1e</td>\n",
       "      <td>3</td>\n",
       "      <td>20</td>\n",
       "      <td>t_fc5df5ba-5396-49a7-8b29-35d0d28249e0</td>\n",
       "      <td>False</td>\n",
       "      <td>False</td>\n",
       "      <td>False</td>\n",
       "      <td>True</td>\n",
       "      <td>0</td>\n",
       "      <td>1</td>\n",
       "      <td>...</td>\n",
       "      <td>0</td>\n",
       "      <td>0</td>\n",
       "      <td>0</td>\n",
       "      <td>True</td>\n",
       "      <td>16</td>\n",
       "      <td>2018-07-15</td>\n",
       "      <td>True</td>\n",
       "      <td>editorial_playlist</td>\n",
       "      <td>trackdone</td>\n",
       "      <td>trackdone</td>\n",
       "    </tr>\n",
       "  </tbody>\n",
       "</table>\n",
       "<p>3 rows × 21 columns</p>\n",
       "</div>"
      ],
      "text/plain": [
       "                               session_id  session_position  session_length  \\\n",
       "0  0_00006f66-33e5-4de7-a324-2d18e439fc1e                 1              20   \n",
       "1  0_00006f66-33e5-4de7-a324-2d18e439fc1e                 2              20   \n",
       "2  0_00006f66-33e5-4de7-a324-2d18e439fc1e                 3              20   \n",
       "\n",
       "                           track_id_clean  skip_1  skip_2  skip_3  \\\n",
       "0  t_0479f24c-27d2-46d6-a00c-7ec928f2b539   False   False   False   \n",
       "1  t_9099cd7b-c238-47b7-9381-f23f2c1d1043   False   False   False   \n",
       "2  t_fc5df5ba-5396-49a7-8b29-35d0d28249e0   False   False   False   \n",
       "\n",
       "   not_skipped  context_switch  no_pause_before_play  ...  \\\n",
       "0         True               0                     0  ...   \n",
       "1         True               0                     1  ...   \n",
       "2         True               0                     1  ...   \n",
       "\n",
       "   long_pause_before_play  hist_user_behavior_n_seekfwd  \\\n",
       "0                       0                             0   \n",
       "1                       0                             0   \n",
       "2                       0                             0   \n",
       "\n",
       "   hist_user_behavior_n_seekback  hist_user_behavior_is_shuffle  hour_of_day  \\\n",
       "0                              0                           True           16   \n",
       "1                              0                           True           16   \n",
       "2                              0                           True           16   \n",
       "\n",
       "         date premium        context_type hist_user_behavior_reason_start  \\\n",
       "0  2018-07-15    True  editorial_playlist                       trackdone   \n",
       "1  2018-07-15    True  editorial_playlist                       trackdone   \n",
       "2  2018-07-15    True  editorial_playlist                       trackdone   \n",
       "\n",
       "  hist_user_behavior_reason_end  \n",
       "0                     trackdone  \n",
       "1                     trackdone  \n",
       "2                     trackdone  \n",
       "\n",
       "[3 rows x 21 columns]"
      ]
     },
     "metadata": {},
     "output_type": "display_data"
    }
   ],
   "source": [
    "sessions = pd.read_csv('data/log_mini.csv')\n",
    "print('Dataset Sessions:')\n",
    "print('- Filas:', sessions.shape[0])\n",
    "print('- Columnas:', sessions.shape[1])\n",
    "print('- Datos nulos:', sessions.isna().sum().sum())\n",
    "display(sessions.head(3))"
   ]
  },
  {
   "cell_type": "code",
   "execution_count": 4,
   "metadata": {},
   "outputs": [
    {
     "name": "stdout",
     "output_type": "stream",
     "text": [
      "Dataset Spotify Songs:\n",
      "- Filas: 1204025\n",
      "- Columnas: 24 Index(['id', 'name', 'album', 'album_id', 'artists', 'artist_ids',\n",
      "       'track_number', 'disc_number', 'explicit', 'danceability', 'energy',\n",
      "       'key', 'loudness', 'mode', 'speechiness', 'acousticness',\n",
      "       'instrumentalness', 'liveness', 'valence', 'tempo', 'duration_ms',\n",
      "       'time_signature', 'year', 'release_date'],\n",
      "      dtype='object')\n",
      "- Datos nulos: 0\n"
     ]
    },
    {
     "data": {
      "text/html": [
       "<div>\n",
       "<style scoped>\n",
       "    .dataframe tbody tr th:only-of-type {\n",
       "        vertical-align: middle;\n",
       "    }\n",
       "\n",
       "    .dataframe tbody tr th {\n",
       "        vertical-align: top;\n",
       "    }\n",
       "\n",
       "    .dataframe thead th {\n",
       "        text-align: right;\n",
       "    }\n",
       "</style>\n",
       "<table border=\"1\" class=\"dataframe\">\n",
       "  <thead>\n",
       "    <tr style=\"text-align: right;\">\n",
       "      <th></th>\n",
       "      <th>id</th>\n",
       "      <th>name</th>\n",
       "      <th>album</th>\n",
       "      <th>album_id</th>\n",
       "      <th>artists</th>\n",
       "      <th>artist_ids</th>\n",
       "      <th>track_number</th>\n",
       "      <th>disc_number</th>\n",
       "      <th>explicit</th>\n",
       "      <th>danceability</th>\n",
       "      <th>...</th>\n",
       "      <th>speechiness</th>\n",
       "      <th>acousticness</th>\n",
       "      <th>instrumentalness</th>\n",
       "      <th>liveness</th>\n",
       "      <th>valence</th>\n",
       "      <th>tempo</th>\n",
       "      <th>duration_ms</th>\n",
       "      <th>time_signature</th>\n",
       "      <th>year</th>\n",
       "      <th>release_date</th>\n",
       "    </tr>\n",
       "  </thead>\n",
       "  <tbody>\n",
       "    <tr>\n",
       "      <th>0</th>\n",
       "      <td>7lmeHLHBe4nmXzuXc0HDjk</td>\n",
       "      <td>Testify</td>\n",
       "      <td>The Battle Of Los Angeles</td>\n",
       "      <td>2eia0myWFgoHuttJytCxgX</td>\n",
       "      <td>['Rage Against The Machine']</td>\n",
       "      <td>['2d0hyoQ5ynDBnkvAbJKORj']</td>\n",
       "      <td>1</td>\n",
       "      <td>1</td>\n",
       "      <td>False</td>\n",
       "      <td>0.470</td>\n",
       "      <td>...</td>\n",
       "      <td>0.0727</td>\n",
       "      <td>0.0261</td>\n",
       "      <td>0.000011</td>\n",
       "      <td>0.356</td>\n",
       "      <td>0.503</td>\n",
       "      <td>117.906</td>\n",
       "      <td>210133</td>\n",
       "      <td>4.0</td>\n",
       "      <td>1999</td>\n",
       "      <td>1999-11-02</td>\n",
       "    </tr>\n",
       "    <tr>\n",
       "      <th>1</th>\n",
       "      <td>1wsRitfRRtWyEapl0q22o8</td>\n",
       "      <td>Guerrilla Radio</td>\n",
       "      <td>The Battle Of Los Angeles</td>\n",
       "      <td>2eia0myWFgoHuttJytCxgX</td>\n",
       "      <td>['Rage Against The Machine']</td>\n",
       "      <td>['2d0hyoQ5ynDBnkvAbJKORj']</td>\n",
       "      <td>2</td>\n",
       "      <td>1</td>\n",
       "      <td>True</td>\n",
       "      <td>0.599</td>\n",
       "      <td>...</td>\n",
       "      <td>0.1880</td>\n",
       "      <td>0.0129</td>\n",
       "      <td>0.000071</td>\n",
       "      <td>0.155</td>\n",
       "      <td>0.489</td>\n",
       "      <td>103.680</td>\n",
       "      <td>206200</td>\n",
       "      <td>4.0</td>\n",
       "      <td>1999</td>\n",
       "      <td>1999-11-02</td>\n",
       "    </tr>\n",
       "    <tr>\n",
       "      <th>2</th>\n",
       "      <td>1hR0fIFK2qRG3f3RF70pb7</td>\n",
       "      <td>Calm Like a Bomb</td>\n",
       "      <td>The Battle Of Los Angeles</td>\n",
       "      <td>2eia0myWFgoHuttJytCxgX</td>\n",
       "      <td>['Rage Against The Machine']</td>\n",
       "      <td>['2d0hyoQ5ynDBnkvAbJKORj']</td>\n",
       "      <td>3</td>\n",
       "      <td>1</td>\n",
       "      <td>False</td>\n",
       "      <td>0.315</td>\n",
       "      <td>...</td>\n",
       "      <td>0.4830</td>\n",
       "      <td>0.0234</td>\n",
       "      <td>0.000002</td>\n",
       "      <td>0.122</td>\n",
       "      <td>0.370</td>\n",
       "      <td>149.749</td>\n",
       "      <td>298893</td>\n",
       "      <td>4.0</td>\n",
       "      <td>1999</td>\n",
       "      <td>1999-11-02</td>\n",
       "    </tr>\n",
       "  </tbody>\n",
       "</table>\n",
       "<p>3 rows × 24 columns</p>\n",
       "</div>"
      ],
      "text/plain": [
       "                       id              name                      album  \\\n",
       "0  7lmeHLHBe4nmXzuXc0HDjk           Testify  The Battle Of Los Angeles   \n",
       "1  1wsRitfRRtWyEapl0q22o8   Guerrilla Radio  The Battle Of Los Angeles   \n",
       "2  1hR0fIFK2qRG3f3RF70pb7  Calm Like a Bomb  The Battle Of Los Angeles   \n",
       "\n",
       "                 album_id                       artists  \\\n",
       "0  2eia0myWFgoHuttJytCxgX  ['Rage Against The Machine']   \n",
       "1  2eia0myWFgoHuttJytCxgX  ['Rage Against The Machine']   \n",
       "2  2eia0myWFgoHuttJytCxgX  ['Rage Against The Machine']   \n",
       "\n",
       "                   artist_ids  track_number  disc_number  explicit  \\\n",
       "0  ['2d0hyoQ5ynDBnkvAbJKORj']             1            1     False   \n",
       "1  ['2d0hyoQ5ynDBnkvAbJKORj']             2            1      True   \n",
       "2  ['2d0hyoQ5ynDBnkvAbJKORj']             3            1     False   \n",
       "\n",
       "   danceability  ...  speechiness  acousticness  instrumentalness  liveness  \\\n",
       "0         0.470  ...       0.0727        0.0261          0.000011     0.356   \n",
       "1         0.599  ...       0.1880        0.0129          0.000071     0.155   \n",
       "2         0.315  ...       0.4830        0.0234          0.000002     0.122   \n",
       "\n",
       "   valence    tempo  duration_ms  time_signature  year  release_date  \n",
       "0    0.503  117.906       210133             4.0  1999    1999-11-02  \n",
       "1    0.489  103.680       206200             4.0  1999    1999-11-02  \n",
       "2    0.370  149.749       298893             4.0  1999    1999-11-02  \n",
       "\n",
       "[3 rows x 24 columns]"
      ]
     },
     "metadata": {},
     "output_type": "display_data"
    }
   ],
   "source": [
    "spotify_songs = pd.read_csv('data/spotify_songs.csv')\n",
    "print('Dataset Spotify Songs:')\n",
    "print('- Filas:', spotify_songs.shape[0])\n",
    "print('- Columnas:', spotify_songs.shape[1], spotify_songs.columns)\n",
    "print('- Datos nulos:', spotify_songs.isna().sum().sum())\n",
    "display(spotify_songs.head(3))"
   ]
  },
  {
   "cell_type": "markdown",
   "metadata": {},
   "source": [
    "# Análisis"
   ]
  },
  {
   "cell_type": "markdown",
   "metadata": {},
   "source": [
    "Cantidad de canciones por año de lanzamiento en `track_features`:"
   ]
  },
  {
   "cell_type": "code",
   "execution_count": 5,
   "metadata": {},
   "outputs": [
    {
     "data": {
      "text/plain": [
       "(array([   36.,    60.,    69.,   102.,   238.,   473.,   470.,   531.,\n",
       "          405.,   311.,   469.,   464.,  1100.,  1005.,  1219.,  2174.,\n",
       "         2398.,  4390.,  6579., 28211.]),\n",
       " array([1950. , 1953.4, 1956.8, 1960.2, 1963.6, 1967. , 1970.4, 1973.8,\n",
       "        1977.2, 1980.6, 1984. , 1987.4, 1990.8, 1994.2, 1997.6, 2001. ,\n",
       "        2004.4, 2007.8, 2011.2, 2014.6, 2018. ]),\n",
       " <BarContainer object of 20 artists>)"
      ]
     },
     "execution_count": 5,
     "metadata": {},
     "output_type": "execute_result"
    },
    {
     "data": {
      "image/png": "[encoded data removed]",
      "text/plain": [
       "<Figure size 1152x648 with 1 Axes>"
      ]
     },
     "metadata": {
      "needs_background": "light"
     },
     "output_type": "display_data"
    }
   ],
   "source": [
    "configurar_pyplot()\n",
    "plt.hist(x=track_features['release_year'], bins=20)"
   ]
  },
  {
   "cell_type": "markdown",
   "metadata": {},
   "source": [
    "Cantidad de canciones por año de lanzamiento en `spotify_songs`:"
   ]
  },
  {
   "cell_type": "code",
   "execution_count": 6,
   "metadata": {},
   "outputs": [
    {
     "data": {
      "text/plain": [
       "(array([1.40000e+01, 0.00000e+00, 1.90000e+01, 2.50000e+01, 0.00000e+00,\n",
       "        5.20000e+01, 2.50000e+01, 5.00000e+01, 1.92000e+02, 1.94000e+02,\n",
       "        1.53000e+02, 8.30000e+01, 1.91000e+02, 2.60000e+01, 1.33000e+02,\n",
       "        2.67000e+02, 4.14000e+02, 3.93000e+02, 8.90000e+02, 1.71500e+03,\n",
       "        2.19200e+03, 2.56700e+03, 2.77800e+03, 3.55900e+03, 5.08900e+03,\n",
       "        5.75300e+03, 6.14800e+03, 5.62800e+03, 7.89400e+03, 1.29540e+04,\n",
       "        2.54720e+04, 4.25640e+04, 5.90820e+04, 8.58840e+04, 1.04553e+05,\n",
       "        1.63209e+05, 1.40588e+05, 1.39798e+05, 1.38990e+05, 2.44477e+05]),\n",
       " array([1900., 1903., 1906., 1909., 1912., 1915., 1918., 1921., 1924.,\n",
       "        1927., 1930., 1933., 1936., 1939., 1942., 1945., 1948., 1951.,\n",
       "        1954., 1957., 1960., 1963., 1966., 1969., 1972., 1975., 1978.,\n",
       "        1981., 1984., 1987., 1990., 1993., 1996., 1999., 2002., 2005.,\n",
       "        2008., 2011., 2014., 2017., 2020.]),\n",
       " <BarContainer object of 40 artists>)"
      ]
     },
     "execution_count": 6,
     "metadata": {},
     "output_type": "execute_result"
    },
    {
     "data": {
      "image/png": "[encoded data removed]",
      "text/plain": [
       "<Figure size 1152x648 with 1 Axes>"
      ]
     },
     "metadata": {
      "needs_background": "light"
     },
     "output_type": "display_data"
    }
   ],
   "source": [
    "configurar_pyplot()\n",
    "plt.hist(x=spotify_songs[spotify_songs['year'] > 0]['year'], bins=40)"
   ]
  },
  {
   "cell_type": "markdown",
   "metadata": {},
   "source": [
    "Cantidad de sesiones con una determinada cantidad de reproducciones:"
   ]
  },
  {
   "cell_type": "code",
   "execution_count": 7,
   "metadata": {},
   "outputs": [
    {
     "data": {
      "text/plain": [
       "<BarContainer object of 11 artists>"
      ]
     },
     "execution_count": 7,
     "metadata": {},
     "output_type": "execute_result"
    },
    {
     "data": {
      "image/png": "[encoded data removed]",
      "text/plain": [
       "<Figure size 1152x648 with 1 Axes>"
      ]
     },
     "metadata": {
      "needs_background": "light"
     },
     "output_type": "display_data"
    }
   ],
   "source": [
    "cantidades = sessions\n",
    "cantidades.loc[:, 'cuenta_1'] = 1\n",
    "cantidades.loc[:, 'cuenta_2'] = 1\n",
    "cantidades = cantidades.groupby('session_id').count().groupby('cuenta_1').count()['cuenta_2']\n",
    "configurar_pyplot()\n",
    "plt.bar(x=np.arange(len(cantidades)), height=cantidades, tick_label=cantidades.index)"
   ]
  },
  {
   "cell_type": "markdown",
   "metadata": {},
   "source": [
    "Cantidad de canciones con una determinada cantidad de reproducciones:"
   ]
  },
  {
   "cell_type": "code",
   "execution_count": 8,
   "metadata": {},
   "outputs": [
    {
     "data": {
      "text/plain": [
       "<BarContainer object of 20 artists>"
      ]
     },
     "execution_count": 8,
     "metadata": {},
     "output_type": "execute_result"
    },
    {
     "data": {
      "image/png": "[encoded data removed]",
      "text/plain": [
       "<Figure size 1152x648 with 1 Axes>"
      ]
     },
     "metadata": {
      "needs_background": "light"
     },
     "output_type": "display_data"
    }
   ],
   "source": [
    "cantidades = sessions\n",
    "cantidades.loc[:, 'cuenta_1'] = 1\n",
    "cantidades.loc[:, 'cuenta_2'] = 1\n",
    "cantidades = cantidades.groupby('track_id_clean').count().groupby('cuenta_1').count()[['cuenta_2']]\n",
    "N = 20\n",
    "N_o_mas = cantidades.loc[N:, :].sum().values[0]\n",
    "cantidades = cantidades.loc[:N-1, :]\n",
    "cantidades.loc[f'{N}+', 'cuenta_2'] = N_o_mas\n",
    "cantidades = cantidades['cuenta_2']\n",
    "configurar_pyplot()\n",
    "plt.bar(x=np.arange(len(cantidades)), height=cantidades, tick_label=cantidades.index)"
   ]
  },
  {
   "cell_type": "markdown",
   "metadata": {},
   "source": [
    "Resumen del dataset `sessions`:"
   ]
  },
  {
   "cell_type": "code",
   "execution_count": 9,
   "metadata": {},
   "outputs": [
    {
     "data": {
      "text/html": [
       "<div>\n",
       "<style scoped>\n",
       "    .dataframe tbody tr th:only-of-type {\n",
       "        vertical-align: middle;\n",
       "    }\n",
       "\n",
       "    .dataframe tbody tr th {\n",
       "        vertical-align: top;\n",
       "    }\n",
       "\n",
       "    .dataframe thead th {\n",
       "        text-align: right;\n",
       "    }\n",
       "</style>\n",
       "<table border=\"1\" class=\"dataframe\">\n",
       "  <thead>\n",
       "    <tr style=\"text-align: right;\">\n",
       "      <th></th>\n",
       "      <th>Valor</th>\n",
       "    </tr>\n",
       "  </thead>\n",
       "  <tbody>\n",
       "    <tr>\n",
       "      <th>Usuarios</th>\n",
       "      <td>10000.000000</td>\n",
       "    </tr>\n",
       "    <tr>\n",
       "      <th>Canciones</th>\n",
       "      <td>50704.000000</td>\n",
       "    </tr>\n",
       "    <tr>\n",
       "      <th>Promedio de canciones por usuario</th>\n",
       "      <td>16.788000</td>\n",
       "    </tr>\n",
       "    <tr>\n",
       "      <th>Desviación estándar de canciones por usuario</th>\n",
       "      <td>3.808321</td>\n",
       "    </tr>\n",
       "    <tr>\n",
       "      <th>Promedio de usuarios por canción</th>\n",
       "      <td>3.310981</td>\n",
       "    </tr>\n",
       "    <tr>\n",
       "      <th>Desviación estándar de usuarios por canción</th>\n",
       "      <td>17.185273</td>\n",
       "    </tr>\n",
       "    <tr>\n",
       "      <th>Densidad del conjunto de datos</th>\n",
       "      <td>0.000288</td>\n",
       "    </tr>\n",
       "  </tbody>\n",
       "</table>\n",
       "</div>"
      ],
      "text/plain": [
       "                                                     Valor\n",
       "Usuarios                                      10000.000000\n",
       "Canciones                                     50704.000000\n",
       "Promedio de canciones por usuario                16.788000\n",
       "Desviación estándar de canciones por usuario      3.808321\n",
       "Promedio de usuarios por canción                  3.310981\n",
       "Desviación estándar de usuarios por canción      17.185273\n",
       "Densidad del conjunto de datos                    0.000288"
      ]
     },
     "execution_count": 9,
     "metadata": {},
     "output_type": "execute_result"
    }
   ],
   "source": [
    "resumen = pd.DataFrame()\n",
    "resumen.loc['Usuarios', 'Valor'] = sessions['session_id'].nunique()\n",
    "resumen.loc['Canciones', 'Valor'] = track_features['track_id'].nunique()\n",
    "canciones_por_usuario = sessions.groupby('session_id').count().iloc[:, 0]\n",
    "resumen.loc['Promedio de canciones por usuario', 'Valor'] = canciones_por_usuario.mean()\n",
    "resumen.loc['Desviación estándar de canciones por usuario', 'Valor'] = canciones_por_usuario.std()\n",
    "usuarios_por_cancion = sessions.groupby('track_id_clean').count().iloc[:, 0]\n",
    "resumen.loc['Promedio de usuarios por canción', 'Valor'] = usuarios_por_cancion.mean()\n",
    "resumen.loc['Desviación estándar de usuarios por canción', 'Valor'] = usuarios_por_cancion.std()\n",
    "resumen.loc['Densidad del conjunto de datos', 'Valor'] = (\n",
    "    sessions[['session_id', 'track_id_clean']].drop_duplicates().shape[0]\n",
    "    /\n",
    "    (sessions['session_id'].nunique() * sessions['track_id_clean'].nunique())\n",
    ")\n",
    "resumen"
   ]
  }
 ],
 "metadata": {
  "kernelspec": {
   "display_name": "Python 3.8.10 64-bit",
   "language": "python",
   "name": "python3"
  },
  "language_info": {
   "codemirror_mode": {
    "name": "ipython",
    "version": 3
   },
   "file_extension": ".py",
   "mimetype": "text/x-python",
   "name": "python",
   "nbconvert_exporter": "python",
   "pygments_lexer": "ipython3",
   "version": "3.8.10"
  },
  "orig_nbformat": 4,
  "vscode": {
   "interpreter": {
    "hash": "f285bb5f8983d1aafa033d6733ae0de2189f69ae4c0ee5aa1b3ca39129c61fab"
   }
  }
 },
 "nbformat": 4,
 "nbformat_minor": 2
}
