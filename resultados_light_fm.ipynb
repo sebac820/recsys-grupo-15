{
 "cells": [
  {
   "cell_type": "markdown",
   "metadata": {},
   "source": [
    "# Librerías"
   ]
  },
  {
   "cell_type": "code",
   "execution_count": 1,
   "metadata": {},
   "outputs": [
    {
     "name": "stderr",
     "output_type": "stream",
     "text": [
      "c:\\Users\\sebas\\AppData\\Local\\Programs\\Python\\Python38\\lib\\site-packages\\lightfm\\_lightfm_fast.py:9: UserWarning: LightFM was compiled without OpenMP support. Only a single thread will be used.\n",
      "  warnings.warn(\n"
     ]
    }
   ],
   "source": [
    "from collections import defaultdict\n",
    "from math import log2\n",
    "from funciones_auxiliares import dcg_usuario, average_precision\n",
    "import lightfm\n",
    "import lightfm.data\n",
    "import lightfm.cross_validation\n",
    "import numpy as np\n",
    "import pandas as pd"
   ]
  },
  {
   "cell_type": "markdown",
   "metadata": {},
   "source": [
    "# Datasets"
   ]
  },
  {
   "cell_type": "code",
   "execution_count": 2,
   "metadata": {},
   "outputs": [],
   "source": [
    "track_features = pd.read_csv('./data/processed_track_features.csv')\n",
    "sessions = pd.read_csv('./data/processed_sessions.csv')"
   ]
  },
  {
   "cell_type": "markdown",
   "metadata": {},
   "source": [
    "# Preparaciones"
   ]
  },
  {
   "cell_type": "code",
   "execution_count": 3,
   "metadata": {},
   "outputs": [],
   "source": [
    "SEED = 0\n",
    "TEST_PERCENTAGE = 0.25"
   ]
  },
  {
   "cell_type": "code",
   "execution_count": 4,
   "metadata": {},
   "outputs": [],
   "source": [
    "dataset = lightfm.data.Dataset()\n",
    "dataset.fit(\n",
    "    users=sessions['session_id'],\n",
    "    items=sessions['track_id']\n",
    ")\n",
    "user_id_map, _, item_id_map, _ = dataset.mapping()"
   ]
  },
  {
   "cell_type": "code",
   "execution_count": 5,
   "metadata": {},
   "outputs": [],
   "source": [
    "interactions, _ = dataset.build_interactions(data=sessions.values)\n",
    "train_interactions, test_interactions = lightfm.cross_validation.random_train_test_split(\n",
    "    interactions=interactions,\n",
    "    test_percentage=TEST_PERCENTAGE,\n",
    "    random_state=np.random.RandomState(SEED)\n",
    ")"
   ]
  },
  {
   "cell_type": "code",
   "execution_count": 6,
   "metadata": {},
   "outputs": [
    {
     "data": {
      "text/plain": [
       "<lightfm.lightfm.LightFM at 0x1f26431e0d0>"
      ]
     },
     "execution_count": 6,
     "metadata": {},
     "output_type": "execute_result"
    }
   ],
   "source": [
    "model = lightfm.LightFM(\n",
    "    no_components=20,\n",
    "    loss='warp',\n",
    "    learning_rate=0.25,\n",
    "    random_state=np.random.RandomState(SEED)\n",
    ")\n",
    "model.fit(\n",
    "    interactions=train_interactions,\n",
    "    epochs=20\n",
    ")"
   ]
  },
  {
   "cell_type": "markdown",
   "metadata": {},
   "source": [
    "# Resultados"
   ]
  },
  {
   "cell_type": "code",
   "execution_count": 7,
   "metadata": {},
   "outputs": [],
   "source": [
    "true_top_n_for_each_user = defaultdict(list)\n",
    "for i in sessions.index:\n",
    "    row = sessions.loc[i]\n",
    "    true_top_n_for_each_user[row['session_id']].append(row['track_id'])"
   ]
  },
  {
   "cell_type": "code",
   "execution_count": 8,
   "metadata": {},
   "outputs": [],
   "source": [
    "idcg = 0\n",
    "for i in np.arange(start=1, stop=10+1):\n",
    "    idcg = 1 / log2(i + 1)"
   ]
  },
  {
   "cell_type": "code",
   "execution_count": 9,
   "metadata": {},
   "outputs": [],
   "source": [
    "inverse_user_id_map = dict(map(reversed, user_id_map.items()))\n",
    "inverse_item_id_map = dict(map(reversed, item_id_map.items()))\n",
    "user_ids = np.array(tuple(user_id_map.values()))\n",
    "item_ids = np.array(tuple(item_id_map.values()))"
   ]
  },
  {
   "cell_type": "code",
   "execution_count": 10,
   "metadata": {},
   "outputs": [
    {
     "name": "stdout",
     "output_type": "stream",
     "text": [
      "0.009292415827556874\n",
      "0.0016346428571428569\n"
     ]
    }
   ],
   "source": [
    "ndcg = 0\n",
    "mean_average_precision = 0\n",
    "for user_id in user_ids:\n",
    "    predictions = model.predict(user_ids=int(user_id), item_ids=item_ids)\n",
    "    predictions = np.argsort(predictions)[-10:]\n",
    "    predictions = list(map(lambda item_id: inverse_item_id_map[item_id], predictions))\n",
    "    user_id = inverse_user_id_map[user_id]\n",
    "    ndcg += dcg_usuario(true_top_n_for_each_user[user_id], predictions, 10)\n",
    "    mean_average_precision += average_precision(true_top_n_for_each_user[user_id], predictions, 10)\n",
    "ndcg = ndcg / idcg / user_ids.shape[0]\n",
    "mean_average_precision = mean_average_precision / user_ids.shape[0]\n",
    "print(ndcg)\n",
    "print(mean_average_precision)"
   ]
  }
 ],
 "metadata": {
  "kernelspec": {
   "display_name": "Python 3.8.10 64-bit",
   "language": "python",
   "name": "python3"
  },
  "language_info": {
   "codemirror_mode": {
    "name": "ipython",
    "version": 3
   },
   "file_extension": ".py",
   "mimetype": "text/x-python",
   "name": "python",
   "nbconvert_exporter": "python",
   "pygments_lexer": "ipython3",
   "version": "3.8.10"
  },
  "orig_nbformat": 4,
  "vscode": {
   "interpreter": {
    "hash": "f285bb5f8983d1aafa033d6733ae0de2189f69ae4c0ee5aa1b3ca39129c61fab"
   }
  }
 },
 "nbformat": 4,
 "nbformat_minor": 2
}
