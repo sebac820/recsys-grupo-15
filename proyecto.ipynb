{
 "cells": [
  {
   "cell_type": "markdown",
   "metadata": {},
   "source": [
    "# Librerías a utilizar"
   ]
  },
  {
   "cell_type": "code",
   "execution_count": 5,
   "metadata": {},
   "outputs": [],
   "source": [
    "import matplotlib.pyplot as plt\n",
    "import numpy as np\n",
    "import pandas as pd"
   ]
  },
  {
   "cell_type": "markdown",
   "metadata": {},
   "source": [
    "# Análisis exploratorio de los datos"
   ]
  },
  {
   "cell_type": "markdown",
   "metadata": {},
   "source": [
    "## Metadata"
   ]
  },
  {
   "cell_type": "code",
   "execution_count": 6,
   "metadata": {},
   "outputs": [
    {
     "name": "stdout",
     "output_type": "stream",
     "text": [
      "Dataset Track Features:\n",
      "- Filas: 50704\n",
      "- Columnas: 30\n",
      "- Datos nulos: 0\n"
     ]
    }
   ],
   "source": [
    "track_features = pd.read_csv('data/tf_mini.csv')\n",
    "print('Dataset Track Features:')\n",
    "print('- Filas:', track_features.shape[0])\n",
    "print('- Columnas:', track_features.shape[1])\n",
    "print('- Datos nulos:', track_features.isna().sum().sum())"
   ]
  },
  {
   "cell_type": "code",
   "execution_count": 7,
   "metadata": {},
   "outputs": [
    {
     "name": "stdout",
     "output_type": "stream",
     "text": [
      "Dataset Sessions:\n",
      "- Filas: 167880\n",
      "- Columnas: 21\n",
      "- Datos nulos: 0\n"
     ]
    }
   ],
   "source": [
    "sessions = pd.read_csv('data/log_mini.csv')\n",
    "print('Dataset Sessions:')\n",
    "print('- Filas:', sessions.shape[0])\n",
    "print('- Columnas:', sessions.shape[1])\n",
    "print('- Datos nulos:', sessions.isna().sum().sum())\n"
   ]
  },
  {
   "cell_type": "markdown",
   "metadata": {},
   "source": [
    "## Agregar columnas a Track Features"
   ]
  }
 ],
 "metadata": {
  "kernelspec": {
   "display_name": "Python 3.8.10 64-bit",
   "language": "python",
   "name": "python3"
  },
  "language_info": {
   "codemirror_mode": {
    "name": "ipython",
    "version": 3
   },
   "file_extension": ".py",
   "mimetype": "text/x-python",
   "name": "python",
   "nbconvert_exporter": "python",
   "pygments_lexer": "ipython3",
   "version": "3.8.10"
  },
  "orig_nbformat": 4,
  "vscode": {
   "interpreter": {
    "hash": "f285bb5f8983d1aafa033d6733ae0de2189f69ae4c0ee5aa1b3ca39129c61fab"
   }
  }
 },
 "nbformat": 4,
 "nbformat_minor": 2
}
