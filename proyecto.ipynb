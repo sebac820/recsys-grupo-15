{
 "cells": [
  {
   "cell_type": "markdown",
   "metadata": {},
   "source": [
    "# Análisis exploratorio de los datos"
   ]
  },
  {
   "cell_type": "markdown",
   "metadata": {},
   "source": [
    "Los datasets a utilizar son los siguientes:\n",
    "- `tf_000000000000.csv`: contiene las características musicales y metadata de las canciones a considerar.\n",
    "- `.csv`: contiene información acerca de sesiones de usuarios de Spotify."
   ]
  }
 ],
 "metadata": {
  "kernelspec": {
   "display_name": "Python 3.8.10 64-bit",
   "language": "python",
   "name": "python3"
  },
  "language_info": {
   "name": "python",
   "version": "3.8.10"
  },
  "orig_nbformat": 4,
  "vscode": {
   "interpreter": {
    "hash": "f285bb5f8983d1aafa033d6733ae0de2189f69ae4c0ee5aa1b3ca39129c61fab"
   }
  }
 },
 "nbformat": 4,
 "nbformat_minor": 2
}
