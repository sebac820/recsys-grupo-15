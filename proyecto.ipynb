{
 "cells": [
  {
   "cell_type": "markdown",
   "metadata": {},
   "source": [
    "# Librerías a utilizar"
   ]
  },
  {
   "cell_type": "code",
   "execution_count": 69,
   "metadata": {},
   "outputs": [],
   "source": [
    "from base64 import b32encode\n",
    "from dotenv import load_dotenv\n",
    "from funciones_auxiliares import obtener_access_token_para_la_api_de_spotify\n",
    "import json\n",
    "import matplotlib.pyplot as plt\n",
    "import numpy as np\n",
    "import os\n",
    "import pandas as pd\n",
    "import requests"
   ]
  },
  {
   "cell_type": "markdown",
   "metadata": {},
   "source": [
    "# Análisis exploratorio de los datos"
   ]
  },
  {
   "cell_type": "markdown",
   "metadata": {},
   "source": [
    "## Metadata"
   ]
  },
  {
   "cell_type": "code",
   "execution_count": 70,
   "metadata": {},
   "outputs": [
    {
     "name": "stdout",
     "output_type": "stream",
     "text": [
      "Dataset Track Features:\n",
      "- Filas: 50704\n",
      "- Columnas: 30\n",
      "- Datos nulos: 0\n"
     ]
    }
   ],
   "source": [
    "track_features = pd.read_csv('data/tf_mini.csv')\n",
    "print('Dataset Track Features:')\n",
    "print('- Filas:', track_features.shape[0])\n",
    "print('- Columnas:', track_features.shape[1])\n",
    "print('- Datos nulos:', track_features.isna().sum().sum())"
   ]
  },
  {
   "cell_type": "code",
   "execution_count": 71,
   "metadata": {},
   "outputs": [
    {
     "name": "stdout",
     "output_type": "stream",
     "text": [
      "Dataset Sessions:\n",
      "- Filas: 167880\n",
      "- Columnas: 21\n",
      "- Datos nulos: 0\n"
     ]
    }
   ],
   "source": [
    "sessions = pd.read_csv('data/log_mini.csv')\n",
    "print('Dataset Sessions:')\n",
    "print('- Filas:', sessions.shape[0])\n",
    "print('- Columnas:', sessions.shape[1])\n",
    "print('- Datos nulos:', sessions.isna().sum().sum())\n"
   ]
  },
  {
   "cell_type": "markdown",
   "metadata": {},
   "source": [
    "## Agregar columnas a Track Features"
   ]
  },
  {
   "cell_type": "code",
   "execution_count": 72,
   "metadata": {},
   "outputs": [
    {
     "data": {
      "text/plain": [
       "'BQB3YvieWZ0vFE5K8_1l5BWTmxgjoyHyVz-U5CV70qJlh8qByBvhNqilLPuUhbsPsB7CCB3WmufwauIbWEjSIFaiN73ZRIuvRPQ00s5YPxA8J7JESt0'"
      ]
     },
     "execution_count": 72,
     "metadata": {},
     "output_type": "execute_result"
    }
   ],
   "source": [
    "load_dotenv()\n",
    "client_id = os.getenv('CLIENT_ID')\n",
    "client_secret = os.getenv('CLIENT_SECRET')\n",
    "access_token = obtener_access_token_para_la_api_de_spotify(client_id, client_secret)\n",
    "access_token"
   ]
  },
  {
   "cell_type": "code",
   "execution_count": 73,
   "metadata": {},
   "outputs": [
    {
     "data": {
      "text/html": [
       "<div>\n",
       "<style scoped>\n",
       "    .dataframe tbody tr th:only-of-type {\n",
       "        vertical-align: middle;\n",
       "    }\n",
       "\n",
       "    .dataframe tbody tr th {\n",
       "        vertical-align: top;\n",
       "    }\n",
       "\n",
       "    .dataframe thead th {\n",
       "        text-align: right;\n",
       "    }\n",
       "</style>\n",
       "<table border=\"1\" class=\"dataframe\">\n",
       "  <thead>\n",
       "    <tr style=\"text-align: right;\">\n",
       "      <th></th>\n",
       "      <th>track_id</th>\n",
       "      <th>duration</th>\n",
       "      <th>release_year</th>\n",
       "      <th>us_popularity_estimate</th>\n",
       "      <th>acousticness</th>\n",
       "      <th>beat_strength</th>\n",
       "      <th>bounciness</th>\n",
       "      <th>danceability</th>\n",
       "      <th>dyn_range_mean</th>\n",
       "      <th>energy</th>\n",
       "      <th>...</th>\n",
       "      <th>time_signature</th>\n",
       "      <th>valence</th>\n",
       "      <th>acoustic_vector_0</th>\n",
       "      <th>acoustic_vector_1</th>\n",
       "      <th>acoustic_vector_2</th>\n",
       "      <th>acoustic_vector_3</th>\n",
       "      <th>acoustic_vector_4</th>\n",
       "      <th>acoustic_vector_5</th>\n",
       "      <th>acoustic_vector_6</th>\n",
       "      <th>acoustic_vector_7</th>\n",
       "    </tr>\n",
       "  </thead>\n",
       "  <tbody>\n",
       "    <tr>\n",
       "      <th>50699</th>\n",
       "      <td>t_402930af-4174-47ec-b1fd-593d93597624</td>\n",
       "      <td>184.686798</td>\n",
       "      <td>2018</td>\n",
       "      <td>99.315966</td>\n",
       "      <td>0.584765</td>\n",
       "      <td>0.521544</td>\n",
       "      <td>0.515087</td>\n",
       "      <td>0.653140</td>\n",
       "      <td>7.684220</td>\n",
       "      <td>0.336433</td>\n",
       "      <td>...</td>\n",
       "      <td>4</td>\n",
       "      <td>0.542063</td>\n",
       "      <td>-0.196001</td>\n",
       "      <td>0.301727</td>\n",
       "      <td>0.238880</td>\n",
       "      <td>-0.391421</td>\n",
       "      <td>0.016690</td>\n",
       "      <td>0.247235</td>\n",
       "      <td>-0.399387</td>\n",
       "      <td>-0.192473</td>\n",
       "    </tr>\n",
       "    <tr>\n",
       "      <th>50700</th>\n",
       "      <td>t_e5f9a069-a893-452e-ab21-49b4eaebfbd0</td>\n",
       "      <td>251.813324</td>\n",
       "      <td>2018</td>\n",
       "      <td>99.918573</td>\n",
       "      <td>0.406680</td>\n",
       "      <td>0.565200</td>\n",
       "      <td>0.693126</td>\n",
       "      <td>0.844861</td>\n",
       "      <td>11.176841</td>\n",
       "      <td>0.709085</td>\n",
       "      <td>...</td>\n",
       "      <td>4</td>\n",
       "      <td>0.472353</td>\n",
       "      <td>-0.545160</td>\n",
       "      <td>0.271596</td>\n",
       "      <td>0.274377</td>\n",
       "      <td>0.043951</td>\n",
       "      <td>-0.322946</td>\n",
       "      <td>0.150802</td>\n",
       "      <td>0.159378</td>\n",
       "      <td>0.384336</td>\n",
       "    </tr>\n",
       "    <tr>\n",
       "      <th>50701</th>\n",
       "      <td>t_3983306d-13b4-4027-9391-7236ca93d2bf</td>\n",
       "      <td>157.520004</td>\n",
       "      <td>2018</td>\n",
       "      <td>98.517692</td>\n",
       "      <td>0.001279</td>\n",
       "      <td>0.414721</td>\n",
       "      <td>0.341769</td>\n",
       "      <td>0.463543</td>\n",
       "      <td>5.405471</td>\n",
       "      <td>0.975503</td>\n",
       "      <td>...</td>\n",
       "      <td>4</td>\n",
       "      <td>0.766519</td>\n",
       "      <td>0.112592</td>\n",
       "      <td>0.368523</td>\n",
       "      <td>-0.466950</td>\n",
       "      <td>-0.468494</td>\n",
       "      <td>0.640088</td>\n",
       "      <td>0.050771</td>\n",
       "      <td>-0.258999</td>\n",
       "      <td>0.258766</td>\n",
       "    </tr>\n",
       "    <tr>\n",
       "      <th>50702</th>\n",
       "      <td>t_74eb6e99-210b-440c-8d7b-4db6617d1c80</td>\n",
       "      <td>129.105392</td>\n",
       "      <td>2018</td>\n",
       "      <td>99.902866</td>\n",
       "      <td>0.139452</td>\n",
       "      <td>0.688375</td>\n",
       "      <td>0.733720</td>\n",
       "      <td>0.850959</td>\n",
       "      <td>10.778521</td>\n",
       "      <td>0.666146</td>\n",
       "      <td>...</td>\n",
       "      <td>4</td>\n",
       "      <td>0.058505</td>\n",
       "      <td>-0.855291</td>\n",
       "      <td>0.365487</td>\n",
       "      <td>0.273034</td>\n",
       "      <td>0.108294</td>\n",
       "      <td>-0.206204</td>\n",
       "      <td>0.007847</td>\n",
       "      <td>-0.408226</td>\n",
       "      <td>0.143629</td>\n",
       "    </tr>\n",
       "    <tr>\n",
       "      <th>50703</th>\n",
       "      <td>t_aec0dda3-19b4-4222-be07-327c12f21456</td>\n",
       "      <td>213.689392</td>\n",
       "      <td>2018</td>\n",
       "      <td>99.961653</td>\n",
       "      <td>0.154936</td>\n",
       "      <td>0.327645</td>\n",
       "      <td>0.365520</td>\n",
       "      <td>0.520514</td>\n",
       "      <td>6.707502</td>\n",
       "      <td>0.880616</td>\n",
       "      <td>...</td>\n",
       "      <td>4</td>\n",
       "      <td>0.414714</td>\n",
       "      <td>-0.095364</td>\n",
       "      <td>0.382398</td>\n",
       "      <td>0.231202</td>\n",
       "      <td>-0.419750</td>\n",
       "      <td>-0.010569</td>\n",
       "      <td>0.173470</td>\n",
       "      <td>-0.403821</td>\n",
       "      <td>-0.377302</td>\n",
       "    </tr>\n",
       "  </tbody>\n",
       "</table>\n",
       "<p>5 rows × 30 columns</p>\n",
       "</div>"
      ],
      "text/plain": [
       "                                     track_id    duration  release_year  \\\n",
       "50699  t_402930af-4174-47ec-b1fd-593d93597624  184.686798          2018   \n",
       "50700  t_e5f9a069-a893-452e-ab21-49b4eaebfbd0  251.813324          2018   \n",
       "50701  t_3983306d-13b4-4027-9391-7236ca93d2bf  157.520004          2018   \n",
       "50702  t_74eb6e99-210b-440c-8d7b-4db6617d1c80  129.105392          2018   \n",
       "50703  t_aec0dda3-19b4-4222-be07-327c12f21456  213.689392          2018   \n",
       "\n",
       "       us_popularity_estimate  acousticness  beat_strength  bounciness  \\\n",
       "50699               99.315966      0.584765       0.521544    0.515087   \n",
       "50700               99.918573      0.406680       0.565200    0.693126   \n",
       "50701               98.517692      0.001279       0.414721    0.341769   \n",
       "50702               99.902866      0.139452       0.688375    0.733720   \n",
       "50703               99.961653      0.154936       0.327645    0.365520   \n",
       "\n",
       "       danceability  dyn_range_mean    energy  ...  time_signature   valence  \\\n",
       "50699      0.653140        7.684220  0.336433  ...               4  0.542063   \n",
       "50700      0.844861       11.176841  0.709085  ...               4  0.472353   \n",
       "50701      0.463543        5.405471  0.975503  ...               4  0.766519   \n",
       "50702      0.850959       10.778521  0.666146  ...               4  0.058505   \n",
       "50703      0.520514        6.707502  0.880616  ...               4  0.414714   \n",
       "\n",
       "       acoustic_vector_0  acoustic_vector_1  acoustic_vector_2  \\\n",
       "50699          -0.196001           0.301727           0.238880   \n",
       "50700          -0.545160           0.271596           0.274377   \n",
       "50701           0.112592           0.368523          -0.466950   \n",
       "50702          -0.855291           0.365487           0.273034   \n",
       "50703          -0.095364           0.382398           0.231202   \n",
       "\n",
       "       acoustic_vector_3 acoustic_vector_4  acoustic_vector_5  \\\n",
       "50699          -0.391421          0.016690           0.247235   \n",
       "50700           0.043951         -0.322946           0.150802   \n",
       "50701          -0.468494          0.640088           0.050771   \n",
       "50702           0.108294         -0.206204           0.007847   \n",
       "50703          -0.419750         -0.010569           0.173470   \n",
       "\n",
       "       acoustic_vector_6  acoustic_vector_7  \n",
       "50699          -0.399387          -0.192473  \n",
       "50700           0.159378           0.384336  \n",
       "50701          -0.258999           0.258766  \n",
       "50702          -0.408226           0.143629  \n",
       "50703          -0.403821          -0.377302  \n",
       "\n",
       "[5 rows x 30 columns]"
      ]
     },
     "execution_count": 73,
     "metadata": {},
     "output_type": "execute_result"
    }
   ],
   "source": [
    "track_features.tail()"
   ]
  },
  {
   "cell_type": "code",
   "execution_count": 80,
   "metadata": {},
   "outputs": [
    {
     "name": "stdout",
     "output_type": "stream",
     "text": [
      "ORPWCZLDGBSGIYJTFUYTSYRUFU2DEMRSFVRGKMBXFUZTEN3DGEZGMMRRGQ2TM===\n",
      "{\n",
      "  \"error\" : {\n",
      "    \"status\" : 400,\n",
      "    \"message\" : \"invalid id\"\n",
      "  }\n",
      "}\n"
     ]
    }
   ],
   "source": [
    "track_id = str(b32encode('t_aec0dda3-19b4-4222-be07-327c12f21456'.encode()))[2:-1]\n",
    "print(track_id)\n",
    "track = requests.get(\n",
    "    url=f'https://api.spotify.com/v1/tracks/{track_id}',\n",
    "    headers={\n",
    "        'Authorization': 'Bearer ' + access_token,\n",
    "        'Content-Type': 'application/json'\n",
    "    }\n",
    ")\n",
    "print(track.text)"
   ]
  }
 ],
 "metadata": {
  "kernelspec": {
   "display_name": "Python 3.8.10 64-bit",
   "language": "python",
   "name": "python3"
  },
  "language_info": {
   "codemirror_mode": {
    "name": "ipython",
    "version": 3
   },
   "file_extension": ".py",
   "mimetype": "text/x-python",
   "name": "python",
   "nbconvert_exporter": "python",
   "pygments_lexer": "ipython3",
   "version": "3.8.10"
  },
  "orig_nbformat": 4,
  "vscode": {
   "interpreter": {
    "hash": "f285bb5f8983d1aafa033d6733ae0de2189f69ae4c0ee5aa1b3ca39129c61fab"
   }
  }
 },
 "nbformat": 4,
 "nbformat_minor": 2
}
