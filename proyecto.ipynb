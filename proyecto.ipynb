{
 "cells": [
  {
   "cell_type": "markdown",
   "metadata": {},
   "source": [
    "# Librerías a utilizar"
   ]
  },
  {
   "cell_type": "code",
   "execution_count": 21,
   "metadata": {},
   "outputs": [],
   "source": [
    "from base64 import b32encode\n",
    "from dotenv import load_dotenv\n",
    "from funciones_auxiliares import obtener_access_token_para_la_api_de_spotify\n",
    "import json\n",
    "import matplotlib.pyplot as plt\n",
    "import numpy as np\n",
    "import os\n",
    "import pandas as pd\n",
    "import requests"
   ]
  },
  {
   "cell_type": "markdown",
   "metadata": {},
   "source": [
    "# Análisis exploratorio de los datos"
   ]
  },
  {
   "cell_type": "markdown",
   "metadata": {},
   "source": [
    "Inicialmente, los datasets se ven como sigue:"
   ]
  },
  {
   "cell_type": "code",
   "execution_count": 22,
   "metadata": {},
   "outputs": [
    {
     "name": "stdout",
     "output_type": "stream",
     "text": [
      "Dataset Track Features:\n",
      "- Filas: 50704\n",
      "- Columnas: 30\n",
      "- Datos nulos: 0\n"
     ]
    }
   ],
   "source": [
    "track_features = pd.read_csv('data/tf_mini.csv')\n",
    "print('Dataset Track Features:')\n",
    "print('- Filas:', track_features.shape[0])\n",
    "print('- Columnas:', track_features.shape[1])\n",
    "print('- Datos nulos:', track_features.isna().sum().sum())"
   ]
  },
  {
   "cell_type": "code",
   "execution_count": 23,
   "metadata": {},
   "outputs": [
    {
     "name": "stdout",
     "output_type": "stream",
     "text": [
      "Dataset Sessions:\n",
      "- Filas: 167880\n",
      "- Columnas: 21\n",
      "- Datos nulos: 0\n"
     ]
    }
   ],
   "source": [
    "sessions = pd.read_csv('data/log_mini.csv')\n",
    "print('Dataset Sessions:')\n",
    "print('- Filas:', sessions.shape[0])\n",
    "print('- Columnas:', sessions.shape[1])\n",
    "print('- Datos nulos:', sessions.isna().sum().sum())\n"
   ]
  },
  {
   "cell_type": "markdown",
   "metadata": {},
   "source": [
    "Conservaremos solamente las columnas que puedan ser obtenidas de la API de Spotify:"
   ]
  },
  {
   "cell_type": "code",
   "execution_count": 24,
   "metadata": {},
   "outputs": [
    {
     "name": "stdout",
     "output_type": "stream",
     "text": [
      "Dataset Track Features, sin columnas no obtenibles de la API de Spotify:\n",
      "- Filas: 50704\n",
      "- Columnas: 24\n",
      "- Datos nulos: 0\n"
     ]
    }
   ],
   "source": [
    "track_features = track_features.drop(columns=['beat_strength', 'bounciness', 'dyn_range_mean', 'flatness', 'mechanism', 'organism'])\n",
    "print('Dataset Track Features, sin columnas no obtenibles de la API de Spotify:')\n",
    "print('- Filas:', track_features.shape[0])\n",
    "print('- Columnas:', track_features.shape[1])\n",
    "print('- Datos nulos:', track_features.isna().sum().sum())"
   ]
  },
  {
   "cell_type": "markdown",
   "metadata": {},
   "source": [
    "Número de reproducciones por sesión:"
   ]
  },
  {
   "cell_type": "code",
   "execution_count": 32,
   "metadata": {},
   "outputs": [
    {
     "data": {
      "text/plain": [
       "(array([ 819.,  752.,  646.,  547.,  459.,  435.,  339.,  320.,  303.,\n",
       "        5380.]),\n",
       " array([10., 11., 12., 13., 14., 15., 16., 17., 18., 19., 20.]),\n",
       " <BarContainer object of 10 artists>)"
      ]
     },
     "execution_count": 32,
     "metadata": {},
     "output_type": "execute_result"
    },
    {
     "data": {
      "image/png": "[encoded data removed]",
      "text/plain": [
       "<Figure size 432x288 with 1 Axes>"
      ]
     },
     "metadata": {
      "needs_background": "light"
     },
     "output_type": "display_data"
    }
   ],
   "source": [
    "sessions.loc[:, 'cuenta'] = 1\n",
    "plt.xlabel('Número de reproducciones')\n",
    "plt.ylabel('Número de sesiones')\n",
    "plt.hist(x=sessions.groupby('session_id').count()['cuenta'])"
   ]
  },
  {
   "cell_type": "code",
   "execution_count": null,
   "metadata": {},
   "outputs": [],
   "source": []
  }
 ],
 "metadata": {
  "kernelspec": {
   "display_name": "Python 3.8.10 64-bit",
   "language": "python",
   "name": "python3"
  },
  "language_info": {
   "codemirror_mode": {
    "name": "ipython",
    "version": 3
   },
   "file_extension": ".py",
   "mimetype": "text/x-python",
   "name": "python",
   "nbconvert_exporter": "python",
   "pygments_lexer": "ipython3",
   "version": "3.8.10"
  },
  "orig_nbformat": 4,
  "vscode": {
   "interpreter": {
    "hash": "f285bb5f8983d1aafa033d6733ae0de2189f69ae4c0ee5aa1b3ca39129c61fab"
   }
  }
 },
 "nbformat": 4,
 "nbformat_minor": 2
}
