{
 "cells": [
  {
   "cell_type": "code",
   "execution_count": 10,
   "id": "f9b88762",
   "metadata": {},
   "outputs": [],
   "source": [
    "import pandas as pd\n",
    "import numpy as np"
   ]
  },
  {
   "cell_type": "code",
   "execution_count": 2,
   "id": "5132dbe2",
   "metadata": {},
   "outputs": [],
   "source": [
    "sessions = pd.read_csv('./data/processed_sessions.csv')"
   ]
  },
  {
   "cell_type": "code",
   "execution_count": 4,
   "id": "51bb4855",
   "metadata": {},
   "outputs": [
    {
     "data": {
      "text/html": [
       "<div>\n",
       "<style scoped>\n",
       "    .dataframe tbody tr th:only-of-type {\n",
       "        vertical-align: middle;\n",
       "    }\n",
       "\n",
       "    .dataframe tbody tr th {\n",
       "        vertical-align: top;\n",
       "    }\n",
       "\n",
       "    .dataframe thead th {\n",
       "        text-align: right;\n",
       "    }\n",
       "</style>\n",
       "<table border=\"1\" class=\"dataframe\">\n",
       "  <thead>\n",
       "    <tr style=\"text-align: right;\">\n",
       "      <th></th>\n",
       "      <th>session_id</th>\n",
       "      <th>track_id</th>\n",
       "      <th>not_skipped</th>\n",
       "    </tr>\n",
       "  </thead>\n",
       "  <tbody>\n",
       "    <tr>\n",
       "      <th>5</th>\n",
       "      <td>0_00006f66-33e5-4de7-a324-2d18e439fc1e</td>\n",
       "      <td>t_c815228b-3212-4f9e-9d4f-9cb19b248184</td>\n",
       "      <td>False</td>\n",
       "    </tr>\n",
       "    <tr>\n",
       "      <th>6</th>\n",
       "      <td>0_00006f66-33e5-4de7-a324-2d18e439fc1e</td>\n",
       "      <td>t_e23c19f5-4c32-4557-aa44-81372c2e3705</td>\n",
       "      <td>False</td>\n",
       "    </tr>\n",
       "    <tr>\n",
       "      <th>7</th>\n",
       "      <td>0_00006f66-33e5-4de7-a324-2d18e439fc1e</td>\n",
       "      <td>t_0be6eced-f56f-48bd-8086-f2e0b760fdee</td>\n",
       "      <td>False</td>\n",
       "    </tr>\n",
       "    <tr>\n",
       "      <th>8</th>\n",
       "      <td>0_00006f66-33e5-4de7-a324-2d18e439fc1e</td>\n",
       "      <td>t_f3ecbd3b-9e8e-4557-b8e0-39cfcd7e65dd</td>\n",
       "      <td>False</td>\n",
       "    </tr>\n",
       "    <tr>\n",
       "      <th>9</th>\n",
       "      <td>0_00006f66-33e5-4de7-a324-2d18e439fc1e</td>\n",
       "      <td>t_2af4dfa0-7df3-4b7e-b7ab-353ba48237f9</td>\n",
       "      <td>False</td>\n",
       "    </tr>\n",
       "    <tr>\n",
       "      <th>...</th>\n",
       "      <td>...</td>\n",
       "      <td>...</td>\n",
       "      <td>...</td>\n",
       "    </tr>\n",
       "    <tr>\n",
       "      <th>167856</th>\n",
       "      <td>0_0eae096d-ae4c-4556-8227-0f6294958330</td>\n",
       "      <td>t_d4c83551-0b13-4fe0-bca6-7392f5f7292f</td>\n",
       "      <td>False</td>\n",
       "    </tr>\n",
       "    <tr>\n",
       "      <th>167857</th>\n",
       "      <td>0_0eae096d-ae4c-4556-8227-0f6294958330</td>\n",
       "      <td>t_8160da16-8962-4f26-8e3b-ea29377415f2</td>\n",
       "      <td>False</td>\n",
       "    </tr>\n",
       "    <tr>\n",
       "      <th>167858</th>\n",
       "      <td>0_0eae096d-ae4c-4556-8227-0f6294958330</td>\n",
       "      <td>t_56bc277a-86e3-4a74-8cf4-93a45f7fc4d6</td>\n",
       "      <td>False</td>\n",
       "    </tr>\n",
       "    <tr>\n",
       "      <th>167859</th>\n",
       "      <td>0_0eae096d-ae4c-4556-8227-0f6294958330</td>\n",
       "      <td>t_d8c9417d-d0f5-40df-82d4-c3298bbafc91</td>\n",
       "      <td>False</td>\n",
       "    </tr>\n",
       "    <tr>\n",
       "      <th>167872</th>\n",
       "      <td>0_0eaeef5d-25e9-4429-bd55-af15d3604c9f</td>\n",
       "      <td>t_bda3bb62-b717-4766-b417-4e7b0a31579b</td>\n",
       "      <td>False</td>\n",
       "    </tr>\n",
       "  </tbody>\n",
       "</table>\n",
       "<p>111996 rows × 3 columns</p>\n",
       "</div>"
      ],
      "text/plain": [
       "                                    session_id  \\\n",
       "5       0_00006f66-33e5-4de7-a324-2d18e439fc1e   \n",
       "6       0_00006f66-33e5-4de7-a324-2d18e439fc1e   \n",
       "7       0_00006f66-33e5-4de7-a324-2d18e439fc1e   \n",
       "8       0_00006f66-33e5-4de7-a324-2d18e439fc1e   \n",
       "9       0_00006f66-33e5-4de7-a324-2d18e439fc1e   \n",
       "...                                        ...   \n",
       "167856  0_0eae096d-ae4c-4556-8227-0f6294958330   \n",
       "167857  0_0eae096d-ae4c-4556-8227-0f6294958330   \n",
       "167858  0_0eae096d-ae4c-4556-8227-0f6294958330   \n",
       "167859  0_0eae096d-ae4c-4556-8227-0f6294958330   \n",
       "167872  0_0eaeef5d-25e9-4429-bd55-af15d3604c9f   \n",
       "\n",
       "                                      track_id  not_skipped  \n",
       "5       t_c815228b-3212-4f9e-9d4f-9cb19b248184        False  \n",
       "6       t_e23c19f5-4c32-4557-aa44-81372c2e3705        False  \n",
       "7       t_0be6eced-f56f-48bd-8086-f2e0b760fdee        False  \n",
       "8       t_f3ecbd3b-9e8e-4557-b8e0-39cfcd7e65dd        False  \n",
       "9       t_2af4dfa0-7df3-4b7e-b7ab-353ba48237f9        False  \n",
       "...                                        ...          ...  \n",
       "167856  t_d4c83551-0b13-4fe0-bca6-7392f5f7292f        False  \n",
       "167857  t_8160da16-8962-4f26-8e3b-ea29377415f2        False  \n",
       "167858  t_56bc277a-86e3-4a74-8cf4-93a45f7fc4d6        False  \n",
       "167859  t_d8c9417d-d0f5-40df-82d4-c3298bbafc91        False  \n",
       "167872  t_bda3bb62-b717-4766-b417-4e7b0a31579b        False  \n",
       "\n",
       "[111996 rows x 3 columns]"
      ]
     },
     "execution_count": 4,
     "metadata": {},
     "output_type": "execute_result"
    }
   ],
   "source": [
    "sessions[sessions[\"not_skipped\"]==False]"
   ]
  },
  {
   "cell_type": "code",
   "execution_count": 12,
   "id": "5d7c09d8",
   "metadata": {},
   "outputs": [],
   "source": [
    "sessions[\"not_skipped\"] = sessions[\"not_skipped\"].apply(lambda x: float(x))"
   ]
  },
  {
   "cell_type": "code",
   "execution_count": 16,
   "id": "00ff39d5",
   "metadata": {},
   "outputs": [
    {
     "data": {
      "text/plain": [
       "array([['0_00006f66-33e5-4de7-a324-2d18e439fc1e',\n",
       "        't_0479f24c-27d2-46d6-a00c-7ec928f2b539', 1.0],\n",
       "       ['0_00006f66-33e5-4de7-a324-2d18e439fc1e',\n",
       "        't_9099cd7b-c238-47b7-9381-f23f2c1d1043', 1.0],\n",
       "       ['0_00006f66-33e5-4de7-a324-2d18e439fc1e',\n",
       "        't_fc5df5ba-5396-49a7-8b29-35d0d28249e0', 1.0],\n",
       "       ...,\n",
       "       ['0_0eaeef5d-25e9-4429-bd55-af15d3604c9f',\n",
       "        't_f673e1b7-4ebe-4fc1-ac24-a9f25de70381', 1.0],\n",
       "       ['0_0eaeef5d-25e9-4429-bd55-af15d3604c9f',\n",
       "        't_e172e8e7-7161-42a9-acb0-d606346c8f87', 1.0],\n",
       "       ['0_0eaeef5d-25e9-4429-bd55-af15d3604c9f',\n",
       "        't_77977dd6-597e-4425-8f8f-4efb32ecfba6', 1.0]], dtype=object)"
      ]
     },
     "execution_count": 16,
     "metadata": {},
     "output_type": "execute_result"
    }
   ],
   "source": [
    "sessions_array = np.array(sessions)\n",
    "sessions_array"
   ]
  },
  {
   "cell_type": "code",
   "execution_count": 9,
   "id": "49623911",
   "metadata": {},
   "outputs": [
    {
     "name": "stdout",
     "output_type": "stream",
     "text": [
      "FM model is only supported on Linux.\n",
      "Windows executable can be found at http://www.libfm.org.\n"
     ]
    }
   ],
   "source": [
    "import cornac\n",
    "from cornac.eval_methods import RatioSplit"
   ]
  },
  {
   "cell_type": "code",
   "execution_count": 38,
   "id": "31234cd6",
   "metadata": {},
   "outputs": [
    {
     "name": "stdout",
     "output_type": "stream",
     "text": [
      "rating_threshold = 1.0\n",
      "exclude_unknowns = True\n"
     ]
    },
    {
     "name": "stderr",
     "output_type": "stream",
     "text": [
      "c:\\users\\alons\\appdata\\local\\programs\\python\\python38\\lib\\site-packages\\cornac\\data\\dataset.py:361: UserWarning: 14686 duplicated observations are removed!\n",
      "  warnings.warn(\"%d duplicated observations are removed!\" % dup_count)\n"
     ]
    },
    {
     "name": "stdout",
     "output_type": "stream",
     "text": [
      "---\n",
      "Training data:\n",
      "Number of users = 10000\n",
      "Number of items = 43979\n",
      "Number of ratings = 119618\n",
      "Max rating = 1.0\n",
      "Min rating = 0.0\n",
      "Global mean = 0.3\n",
      "---\n",
      "Test data:\n",
      "Number of users = 8838\n",
      "Number of items = 9792\n",
      "Number of ratings = 25412\n",
      "Number of unknown users = 0\n",
      "Number of unknown items = 0\n",
      "---\n",
      "Total users = 10000\n",
      "Total items = 43979\n"
     ]
    },
    {
     "name": "stderr",
     "output_type": "stream",
     "text": [
      "c:\\users\\alons\\appdata\\local\\programs\\python\\python38\\lib\\site-packages\\cornac\\data\\dataset.py:361: UserWarning: 1019 duplicated observations are removed!\n",
      "  warnings.warn(\"%d duplicated observations are removed!\" % dup_count)\n"
     ]
    }
   ],
   "source": [
    "ratio_split = RatioSplit(\n",
    "    data=sessions_array,\n",
    "    test_size=0.2,\n",
    "    rating_threshold=1.0,\n",
    "    seed=123,\n",
    "    exclude_unknowns=True,\n",
    "    verbose=True,\n",
    ")"
   ]
  },
  {
   "cell_type": "code",
   "execution_count": 36,
   "id": "0bb03876",
   "metadata": {},
   "outputs": [
    {
     "name": "stdout",
     "output_type": "stream",
     "text": [
      "\n",
      "[GMF] Training started!\n"
     ]
    },
    {
     "ename": "AttributeError",
     "evalue": "module 'tensorflow' has no attribute 'variable_scope'",
     "output_type": "error",
     "traceback": [
      "\u001b[1;31m---------------------------------------------------------------------------\u001b[0m",
      "\u001b[1;31mAttributeError\u001b[0m                            Traceback (most recent call last)",
      "\u001b[1;32m<ipython-input-36-ab4ec4b5febb>\u001b[0m in \u001b[0;36m<module>\u001b[1;34m\u001b[0m\n\u001b[0;32m     47\u001b[0m \u001b[1;33m\u001b[0m\u001b[0m\n\u001b[0;32m     48\u001b[0m \u001b[1;31m# Put everything together into an experiment and run it\u001b[0m\u001b[1;33m\u001b[0m\u001b[1;33m\u001b[0m\u001b[1;33m\u001b[0m\u001b[0m\n\u001b[1;32m---> 49\u001b[1;33m cornac.Experiment(\n\u001b[0m\u001b[0;32m     50\u001b[0m     \u001b[0meval_method\u001b[0m\u001b[1;33m=\u001b[0m\u001b[0mratio_split\u001b[0m\u001b[1;33m,\u001b[0m\u001b[1;33m\u001b[0m\u001b[1;33m\u001b[0m\u001b[0m\n\u001b[0;32m     51\u001b[0m     \u001b[0mmodels\u001b[0m\u001b[1;33m=\u001b[0m\u001b[1;33m[\u001b[0m\u001b[0mgmf\u001b[0m\u001b[1;33m,\u001b[0m \u001b[0mmlp\u001b[0m\u001b[1;33m,\u001b[0m \u001b[0mneumf1\u001b[0m\u001b[1;33m,\u001b[0m \u001b[0mneumf2\u001b[0m\u001b[1;33m]\u001b[0m\u001b[1;33m,\u001b[0m\u001b[1;33m\u001b[0m\u001b[1;33m\u001b[0m\u001b[0m\n",
      "\u001b[1;32mc:\\users\\alons\\appdata\\local\\programs\\python\\python38\\lib\\site-packages\\cornac\\experiment\\experiment.py\u001b[0m in \u001b[0;36mrun\u001b[1;34m(self)\u001b[0m\n\u001b[0;32m    129\u001b[0m \u001b[1;33m\u001b[0m\u001b[0m\n\u001b[0;32m    130\u001b[0m         \u001b[1;32mfor\u001b[0m \u001b[0mmodel\u001b[0m \u001b[1;32min\u001b[0m \u001b[0mself\u001b[0m\u001b[1;33m.\u001b[0m\u001b[0mmodels\u001b[0m\u001b[1;33m:\u001b[0m\u001b[1;33m\u001b[0m\u001b[1;33m\u001b[0m\u001b[0m\n\u001b[1;32m--> 131\u001b[1;33m             test_result, val_result = self.eval_method.evaluate(\n\u001b[0m\u001b[0;32m    132\u001b[0m                 \u001b[0mmodel\u001b[0m\u001b[1;33m=\u001b[0m\u001b[0mmodel\u001b[0m\u001b[1;33m,\u001b[0m\u001b[1;33m\u001b[0m\u001b[1;33m\u001b[0m\u001b[0m\n\u001b[0;32m    133\u001b[0m                 \u001b[0mmetrics\u001b[0m\u001b[1;33m=\u001b[0m\u001b[0mself\u001b[0m\u001b[1;33m.\u001b[0m\u001b[0mmetrics\u001b[0m\u001b[1;33m,\u001b[0m\u001b[1;33m\u001b[0m\u001b[1;33m\u001b[0m\u001b[0m\n",
      "\u001b[1;32mc:\\users\\alons\\appdata\\local\\programs\\python\\python38\\lib\\site-packages\\cornac\\eval_methods\\base_method.py\u001b[0m in \u001b[0;36mevaluate\u001b[1;34m(self, model, metrics, user_based, show_validation)\u001b[0m\n\u001b[0;32m    698\u001b[0m \u001b[1;33m\u001b[0m\u001b[0m\n\u001b[0;32m    699\u001b[0m         \u001b[0mstart\u001b[0m \u001b[1;33m=\u001b[0m \u001b[0mtime\u001b[0m\u001b[1;33m.\u001b[0m\u001b[0mtime\u001b[0m\u001b[1;33m(\u001b[0m\u001b[1;33m)\u001b[0m\u001b[1;33m\u001b[0m\u001b[1;33m\u001b[0m\u001b[0m\n\u001b[1;32m--> 700\u001b[1;33m         \u001b[0mmodel\u001b[0m\u001b[1;33m.\u001b[0m\u001b[0mfit\u001b[0m\u001b[1;33m(\u001b[0m\u001b[0mself\u001b[0m\u001b[1;33m.\u001b[0m\u001b[0mtrain_set\u001b[0m\u001b[1;33m,\u001b[0m \u001b[0mself\u001b[0m\u001b[1;33m.\u001b[0m\u001b[0mval_set\u001b[0m\u001b[1;33m)\u001b[0m\u001b[1;33m\u001b[0m\u001b[1;33m\u001b[0m\u001b[0m\n\u001b[0m\u001b[0;32m    701\u001b[0m         \u001b[0mtrain_time\u001b[0m \u001b[1;33m=\u001b[0m \u001b[0mtime\u001b[0m\u001b[1;33m.\u001b[0m\u001b[0mtime\u001b[0m\u001b[1;33m(\u001b[0m\u001b[1;33m)\u001b[0m \u001b[1;33m-\u001b[0m \u001b[0mstart\u001b[0m\u001b[1;33m\u001b[0m\u001b[1;33m\u001b[0m\u001b[0m\n\u001b[0;32m    702\u001b[0m \u001b[1;33m\u001b[0m\u001b[0m\n",
      "\u001b[1;32mc:\\users\\alons\\appdata\\local\\programs\\python\\python38\\lib\\site-packages\\cornac\\models\\ncf\\recom_ncf_base.py\u001b[0m in \u001b[0;36mfit\u001b[1;34m(self, train_set, val_set)\u001b[0m\n\u001b[0;32m    125\u001b[0m                 \u001b[0mself\u001b[0m\u001b[1;33m.\u001b[0m\u001b[0mnum_users\u001b[0m \u001b[1;33m=\u001b[0m \u001b[0mself\u001b[0m\u001b[1;33m.\u001b[0m\u001b[0mtrain_set\u001b[0m\u001b[1;33m.\u001b[0m\u001b[0mnum_users\u001b[0m\u001b[1;33m\u001b[0m\u001b[1;33m\u001b[0m\u001b[0m\n\u001b[0;32m    126\u001b[0m                 \u001b[0mself\u001b[0m\u001b[1;33m.\u001b[0m\u001b[0mnum_items\u001b[0m \u001b[1;33m=\u001b[0m \u001b[0mself\u001b[0m\u001b[1;33m.\u001b[0m\u001b[0mtrain_set\u001b[0m\u001b[1;33m.\u001b[0m\u001b[0mnum_items\u001b[0m\u001b[1;33m\u001b[0m\u001b[1;33m\u001b[0m\u001b[0m\n\u001b[1;32m--> 127\u001b[1;33m                 \u001b[0mself\u001b[0m\u001b[1;33m.\u001b[0m\u001b[0m_build_graph\u001b[0m\u001b[1;33m(\u001b[0m\u001b[1;33m)\u001b[0m\u001b[1;33m\u001b[0m\u001b[1;33m\u001b[0m\u001b[0m\n\u001b[0m\u001b[0;32m    128\u001b[0m             \u001b[0mself\u001b[0m\u001b[1;33m.\u001b[0m\u001b[0m_fit_tf\u001b[0m\u001b[1;33m(\u001b[0m\u001b[1;33m)\u001b[0m\u001b[1;33m\u001b[0m\u001b[1;33m\u001b[0m\u001b[0m\n\u001b[0;32m    129\u001b[0m \u001b[1;33m\u001b[0m\u001b[0m\n",
      "\u001b[1;32mc:\\users\\alons\\appdata\\local\\programs\\python\\python38\\lib\\site-packages\\cornac\\models\\ncf\\recom_gmf.py\u001b[0m in \u001b[0;36m_build_graph\u001b[1;34m(self)\u001b[0m\n\u001b[0;32m    117\u001b[0m             )\n\u001b[0;32m    118\u001b[0m \u001b[1;33m\u001b[0m\u001b[0m\n\u001b[1;32m--> 119\u001b[1;33m             self.interaction = gmf(\n\u001b[0m\u001b[0;32m    120\u001b[0m                 \u001b[0muid\u001b[0m\u001b[1;33m=\u001b[0m\u001b[0mself\u001b[0m\u001b[1;33m.\u001b[0m\u001b[0muser_id\u001b[0m\u001b[1;33m,\u001b[0m\u001b[1;33m\u001b[0m\u001b[1;33m\u001b[0m\u001b[0m\n\u001b[0;32m    121\u001b[0m                 \u001b[0miid\u001b[0m\u001b[1;33m=\u001b[0m\u001b[0mself\u001b[0m\u001b[1;33m.\u001b[0m\u001b[0mitem_id\u001b[0m\u001b[1;33m,\u001b[0m\u001b[1;33m\u001b[0m\u001b[1;33m\u001b[0m\u001b[0m\n",
      "\u001b[1;32mc:\\users\\alons\\appdata\\local\\programs\\python\\python38\\lib\\site-packages\\cornac\\models\\ncf\\ops.py\u001b[0m in \u001b[0;36mgmf\u001b[1;34m(uid, iid, num_users, num_items, emb_size, reg_user, reg_item, seed)\u001b[0m\n\u001b[0;32m     75\u001b[0m \u001b[1;33m\u001b[0m\u001b[0m\n\u001b[0;32m     76\u001b[0m \u001b[1;32mdef\u001b[0m \u001b[0mgmf\u001b[0m\u001b[1;33m(\u001b[0m\u001b[0muid\u001b[0m\u001b[1;33m,\u001b[0m \u001b[0miid\u001b[0m\u001b[1;33m,\u001b[0m \u001b[0mnum_users\u001b[0m\u001b[1;33m,\u001b[0m \u001b[0mnum_items\u001b[0m\u001b[1;33m,\u001b[0m \u001b[0memb_size\u001b[0m\u001b[1;33m,\u001b[0m \u001b[0mreg_user\u001b[0m\u001b[1;33m,\u001b[0m \u001b[0mreg_item\u001b[0m\u001b[1;33m,\u001b[0m \u001b[0mseed\u001b[0m\u001b[1;33m=\u001b[0m\u001b[1;32mNone\u001b[0m\u001b[1;33m)\u001b[0m\u001b[1;33m:\u001b[0m\u001b[1;33m\u001b[0m\u001b[1;33m\u001b[0m\u001b[0m\n\u001b[1;32m---> 77\u001b[1;33m     \u001b[1;32mwith\u001b[0m \u001b[0mtf\u001b[0m\u001b[1;33m.\u001b[0m\u001b[0mvariable_scope\u001b[0m\u001b[1;33m(\u001b[0m\u001b[1;34m\"GMF\"\u001b[0m\u001b[1;33m)\u001b[0m \u001b[1;32mas\u001b[0m \u001b[0mscope\u001b[0m\u001b[1;33m:\u001b[0m\u001b[1;33m\u001b[0m\u001b[1;33m\u001b[0m\u001b[0m\n\u001b[0m\u001b[0;32m     78\u001b[0m         user_emb, item_emb = emb(\n\u001b[0;32m     79\u001b[0m             \u001b[0muid\u001b[0m\u001b[1;33m=\u001b[0m\u001b[0muid\u001b[0m\u001b[1;33m,\u001b[0m\u001b[1;33m\u001b[0m\u001b[1;33m\u001b[0m\u001b[0m\n",
      "\u001b[1;31mAttributeError\u001b[0m: module 'tensorflow' has no attribute 'variable_scope'"
     ]
    }
   ],
   "source": [
    "gmf = cornac.models.GMF(\n",
    "    num_factors=8,\n",
    "    num_epochs=10,\n",
    "    learner=\"adam\",\n",
    "    batch_size=256,\n",
    "    lr=0.001,\n",
    "    num_neg=50,\n",
    "    seed=123,\n",
    ")\n",
    "mlp = cornac.models.MLP(\n",
    "    layers=[64, 32, 16, 8],\n",
    "    act_fn=\"tanh\",\n",
    "    learner=\"adam\",\n",
    "    num_epochs=10,\n",
    "    batch_size=256,\n",
    "    lr=0.001,\n",
    "    num_neg=50,\n",
    "    seed=123,\n",
    ")\n",
    "neumf1 = cornac.models.NeuMF(\n",
    "    num_factors=8,\n",
    "    layers=[64, 32, 16, 8],\n",
    "    act_fn=\"tanh\",\n",
    "    learner=\"adam\",\n",
    "    num_epochs=10,\n",
    "    batch_size=256,\n",
    "    lr=0.001,\n",
    "    num_neg=50,\n",
    "    seed=123,\n",
    ")\n",
    "neumf2 = cornac.models.NeuMF(\n",
    "    name=\"NeuMF_pretrained\",\n",
    "    learner=\"adam\",\n",
    "    num_epochs=10,\n",
    "    batch_size=256,\n",
    "    lr=0.001,\n",
    "    num_neg=50,\n",
    "    seed=123,\n",
    "    num_factors=gmf.num_factors,\n",
    "    layers=mlp.layers,\n",
    "    act_fn=mlp.act_fn,\n",
    ").pretrain(gmf, mlp)\n",
    "\n",
    "# Instantiate evaluation metrics\n",
    "ndcg_10 = cornac.metrics.NDCG(k=10)\n",
    "MAP = cornac.metrics.MAP()\n",
    "\n",
    "# Put everything together into an experiment and run it\n",
    "cornac.Experiment(\n",
    "    eval_method=ratio_split,\n",
    "    models=[gmf, mlp, neumf1, neumf2],\n",
    "    metrics=[ndcg_10, MAP],\n",
    ").run()"
   ]
  },
  {
   "cell_type": "code",
   "execution_count": 41,
   "id": "5d8e906e",
   "metadata": {},
   "outputs": [
    {
     "name": "stdout",
     "output_type": "stream",
     "text": [
      "\n",
      "[MF] Training started!\n",
      "\n",
      "[MF] Evaluation started!\n"
     ]
    },
    {
     "data": {
      "application/vnd.jupyter.widget-view+json": {
       "model_id": "3d7d39b715d94e0588e291952956c845",
       "version_major": 2,
       "version_minor": 0
      },
      "text/plain": [
       "Ranking:   0%|          | 0/8838 [00:00<?, ?it/s]"
      ]
     },
     "metadata": {},
     "output_type": "display_data"
    },
    {
     "name": "stdout",
     "output_type": "stream",
     "text": [
      "\n",
      "[PMF] Training started!\n",
      "\n",
      "[PMF] Evaluation started!\n"
     ]
    },
    {
     "data": {
      "application/vnd.jupyter.widget-view+json": {
       "model_id": "6fb266715bb54387bab633bf7f4b4b89",
       "version_major": 2,
       "version_minor": 0
      },
      "text/plain": [
       "Ranking:   0%|          | 0/8838 [00:00<?, ?it/s]"
      ]
     },
     "metadata": {},
     "output_type": "display_data"
    },
    {
     "name": "stdout",
     "output_type": "stream",
     "text": [
      "\n",
      "[BPR] Training started!\n",
      "\n",
      "[BPR] Evaluation started!\n"
     ]
    },
    {
     "data": {
      "application/vnd.jupyter.widget-view+json": {
       "model_id": "5a75b6cbb4c04ec2bf6a60ef6c7489f4",
       "version_major": 2,
       "version_minor": 0
      },
      "text/plain": [
       "Ranking:   0%|          | 0/8838 [00:00<?, ?it/s]"
      ]
     },
     "metadata": {},
     "output_type": "display_data"
    },
    {
     "name": "stdout",
     "output_type": "stream",
     "text": [
      "\n",
      "[MostPop] Training started!\n",
      "\n",
      "[MostPop] Evaluation started!\n"
     ]
    },
    {
     "data": {
      "application/vnd.jupyter.widget-view+json": {
       "model_id": "dfef4db7275848e7a158f10ded43211e",
       "version_major": 2,
       "version_minor": 0
      },
      "text/plain": [
       "Ranking:   0%|          | 0/8838 [00:00<?, ?it/s]"
      ]
     },
     "metadata": {},
     "output_type": "display_data"
    },
    {
     "name": "stdout",
     "output_type": "stream",
     "text": [
      "\n",
      "[WBPR] Training started!\n",
      "\n",
      "[WBPR] Evaluation started!\n"
     ]
    },
    {
     "data": {
      "application/vnd.jupyter.widget-view+json": {
       "model_id": "602be2fec41546ef85c6d2ca6e9ff597",
       "version_major": 2,
       "version_minor": 0
      },
      "text/plain": [
       "Ranking:   0%|          | 0/8838 [00:00<?, ?it/s]"
      ]
     },
     "metadata": {},
     "output_type": "display_data"
    },
    {
     "name": "stdout",
     "output_type": "stream",
     "text": [
      "\n",
      "[SVD] Training started!\n",
      "\n",
      "[SVD] Evaluation started!\n"
     ]
    },
    {
     "data": {
      "application/vnd.jupyter.widget-view+json": {
       "model_id": "5a98e02dbcc2448d960a358b9d5ddc2f",
       "version_major": 2,
       "version_minor": 0
      },
      "text/plain": [
       "Ranking:   0%|          | 0/8838 [00:00<?, ?it/s]"
      ]
     },
     "metadata": {},
     "output_type": "display_data"
    },
    {
     "name": "stdout",
     "output_type": "stream",
     "text": [
      "\n",
      "TEST:\n",
      "...\n",
      "        |    MAP | NDCG@10 | Train (s) | Test (s)\n",
      "------- + ------ + ------- + --------- + --------\n",
      "MF      | 0.0008 |  0.0008 |    0.4661 |  81.2652\n",
      "PMF     | 0.0118 |  0.0136 |   20.8670 |  91.5825\n",
      "BPR     | 0.0343 |  0.0366 |   11.3920 |  81.5650\n",
      "MostPop | 0.0342 |  0.0368 |    0.0130 |  31.9570\n",
      "WBPR    | 0.0253 |  0.0320 |   20.0931 |  91.1635\n",
      "SVD     | 0.0007 |  0.0008 |    0.4670 |  87.0430\n",
      "\n"
     ]
    }
   ],
   "source": [
    "import cornac\n",
    "from cornac.eval_methods import RatioSplit\n",
    "from cornac.models import MF, PMF, BPR, MostPop, SVD, WBPR\n",
    "from cornac.metrics import MAE, RMSE, Precision, Recall, NDCG, AUC, MAP\n",
    "\n",
    "# initialize models\n",
    "models = [\n",
    "    MF(k=10, max_iter=25, learning_rate=0.01, lambda_reg=0.02, use_bias=True, seed=123),\n",
    "    PMF(k=10, max_iter=100, learning_rate=0.001, lambda_reg=0.001, seed=123),\n",
    "    BPR(k=10, max_iter=200, learning_rate=0.001, lambda_reg=0.01, seed=123),\n",
    "    MostPop(),\n",
    "    WBPR(k=10, max_iter=200, learning_rate=0.001, lambda_reg=0.001, seed=123),\n",
    "    SVD(k=10, max_iter=30, learning_rate=0.01, lambda_reg=0.02, seed=123)\n",
    "    \n",
    "]\n",
    "\n",
    "# define metrics to evaluate the models\n",
    "metrics = [NDCG(k=10), MAP()]\n",
    "\n",
    "# put it together in an experiment, voilà!\n",
    "cornac.Experiment(eval_method=ratio_split, models=models, metrics=metrics, user_based=True).run()+++++++++++"
   ]
  },
  {
   "cell_type": "code",
   "execution_count": null,
   "id": "5204279f",
   "metadata": {},
   "outputs": [],
   "source": []
  }
 ],
 "metadata": {
  "kernelspec": {
   "display_name": "Python 3",
   "language": "python",
   "name": "python3"
  },
  "language_info": {
   "codemirror_mode": {
    "name": "ipython",
    "version": 3
   },
   "file_extension": ".py",
   "mimetype": "text/x-python",
   "name": "python",
   "nbconvert_exporter": "python",
   "pygments_lexer": "ipython3",
   "version": "3.8.4"
  }
 },
 "nbformat": 4,
 "nbformat_minor": 5
}
