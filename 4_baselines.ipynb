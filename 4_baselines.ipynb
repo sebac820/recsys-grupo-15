{
 "cells": [
  {
   "cell_type": "code",
   "execution_count": 10,
   "metadata": {},
   "outputs": [],
   "source": [
    "import pandas as pd\n",
    "import numpy as np"
   ]
  },
  {
   "cell_type": "code",
   "execution_count": 2,
   "metadata": {},
   "outputs": [],
   "source": [
    "sessions = pd.read_csv('./data/processed_sessions.csv')"
   ]
  },
  {
   "cell_type": "code",
   "execution_count": 12,
   "metadata": {},
   "outputs": [],
   "source": [
    "sessions[\"not_skipped\"] = sessions[\"not_skipped\"].apply(lambda x: float(x))"
   ]
  },
  {
   "cell_type": "code",
   "execution_count": 16,
   "metadata": {},
   "outputs": [
    {
     "data": {
      "text/plain": [
       "array([['0_00006f66-33e5-4de7-a324-2d18e439fc1e',\n",
       "        't_0479f24c-27d2-46d6-a00c-7ec928f2b539', 1.0],\n",
       "       ['0_00006f66-33e5-4de7-a324-2d18e439fc1e',\n",
       "        't_9099cd7b-c238-47b7-9381-f23f2c1d1043', 1.0],\n",
       "       ['0_00006f66-33e5-4de7-a324-2d18e439fc1e',\n",
       "        't_fc5df5ba-5396-49a7-8b29-35d0d28249e0', 1.0],\n",
       "       ...,\n",
       "       ['0_0eaeef5d-25e9-4429-bd55-af15d3604c9f',\n",
       "        't_f673e1b7-4ebe-4fc1-ac24-a9f25de70381', 1.0],\n",
       "       ['0_0eaeef5d-25e9-4429-bd55-af15d3604c9f',\n",
       "        't_e172e8e7-7161-42a9-acb0-d606346c8f87', 1.0],\n",
       "       ['0_0eaeef5d-25e9-4429-bd55-af15d3604c9f',\n",
       "        't_77977dd6-597e-4425-8f8f-4efb32ecfba6', 1.0]], dtype=object)"
      ]
     },
     "execution_count": 16,
     "metadata": {},
     "output_type": "execute_result"
    }
   ],
   "source": [
    "sessions_array = np.array(sessions)\n",
    "sessions_array"
   ]
  },
  {
   "cell_type": "code",
   "execution_count": 9,
   "metadata": {},
   "outputs": [
    {
     "name": "stdout",
     "output_type": "stream",
     "text": [
      "FM model is only supported on Linux.\n",
      "Windows executable can be found at http://www.libfm.org.\n"
     ]
    }
   ],
   "source": [
    "import cornac\n",
    "from cornac.eval_methods import RatioSplit"
   ]
  },
  {
   "cell_type": "code",
   "execution_count": 38,
   "metadata": {},
   "outputs": [
    {
     "name": "stdout",
     "output_type": "stream",
     "text": [
      "rating_threshold = 1.0\n",
      "exclude_unknowns = True\n"
     ]
    },
    {
     "name": "stderr",
     "output_type": "stream",
     "text": [
      "c:\\users\\alons\\appdata\\local\\programs\\python\\python38\\lib\\site-packages\\cornac\\data\\dataset.py:361: UserWarning: 14686 duplicated observations are removed!\n",
      "  warnings.warn(\"%d duplicated observations are removed!\" % dup_count)\n"
     ]
    },
    {
     "name": "stdout",
     "output_type": "stream",
     "text": [
      "---\n",
      "Training data:\n",
      "Number of users = 10000\n",
      "Number of items = 43979\n",
      "Number of ratings = 119618\n",
      "Max rating = 1.0\n",
      "Min rating = 0.0\n",
      "Global mean = 0.3\n",
      "---\n",
      "Test data:\n",
      "Number of users = 8838\n",
      "Number of items = 9792\n",
      "Number of ratings = 25412\n",
      "Number of unknown users = 0\n",
      "Number of unknown items = 0\n",
      "---\n",
      "Total users = 10000\n",
      "Total items = 43979\n"
     ]
    },
    {
     "name": "stderr",
     "output_type": "stream",
     "text": [
      "c:\\users\\alons\\appdata\\local\\programs\\python\\python38\\lib\\site-packages\\cornac\\data\\dataset.py:361: UserWarning: 1019 duplicated observations are removed!\n",
      "  warnings.warn(\"%d duplicated observations are removed!\" % dup_count)\n"
     ]
    }
   ],
   "source": [
    "ratio_split = RatioSplit(\n",
    "    data=sessions_array,\n",
    "    test_size=0.2,\n",
    "    rating_threshold=1.0,\n",
    "    seed=123,\n",
    "    exclude_unknowns=True,\n",
    "    verbose=True,\n",
    ")"
   ]
  },
  {
   "cell_type": "code",
   "execution_count": 41,
   "metadata": {},
   "outputs": [
    {
     "name": "stdout",
     "output_type": "stream",
     "text": [
      "\n",
      "[MF] Training started!\n",
      "\n",
      "[MF] Evaluation started!\n"
     ]
    },
    {
     "data": {
      "application/vnd.jupyter.widget-view+json": {
       "model_id": "3d7d39b715d94e0588e291952956c845",
       "version_major": 2,
       "version_minor": 0
      },
      "text/plain": [
       "Ranking:   0%|          | 0/8838 [00:00<?, ?it/s]"
      ]
     },
     "metadata": {},
     "output_type": "display_data"
    },
    {
     "name": "stdout",
     "output_type": "stream",
     "text": [
      "\n",
      "[PMF] Training started!\n",
      "\n",
      "[PMF] Evaluation started!\n"
     ]
    },
    {
     "data": {
      "application/vnd.jupyter.widget-view+json": {
       "model_id": "6fb266715bb54387bab633bf7f4b4b89",
       "version_major": 2,
       "version_minor": 0
      },
      "text/plain": [
       "Ranking:   0%|          | 0/8838 [00:00<?, ?it/s]"
      ]
     },
     "metadata": {},
     "output_type": "display_data"
    },
    {
     "name": "stdout",
     "output_type": "stream",
     "text": [
      "\n",
      "[BPR] Training started!\n",
      "\n",
      "[BPR] Evaluation started!\n"
     ]
    },
    {
     "data": {
      "application/vnd.jupyter.widget-view+json": {
       "model_id": "5a75b6cbb4c04ec2bf6a60ef6c7489f4",
       "version_major": 2,
       "version_minor": 0
      },
      "text/plain": [
       "Ranking:   0%|          | 0/8838 [00:00<?, ?it/s]"
      ]
     },
     "metadata": {},
     "output_type": "display_data"
    },
    {
     "name": "stdout",
     "output_type": "stream",
     "text": [
      "\n",
      "[MostPop] Training started!\n",
      "\n",
      "[MostPop] Evaluation started!\n"
     ]
    },
    {
     "data": {
      "application/vnd.jupyter.widget-view+json": {
       "model_id": "dfef4db7275848e7a158f10ded43211e",
       "version_major": 2,
       "version_minor": 0
      },
      "text/plain": [
       "Ranking:   0%|          | 0/8838 [00:00<?, ?it/s]"
      ]
     },
     "metadata": {},
     "output_type": "display_data"
    },
    {
     "name": "stdout",
     "output_type": "stream",
     "text": [
      "\n",
      "[WBPR] Training started!\n",
      "\n",
      "[WBPR] Evaluation started!\n"
     ]
    },
    {
     "data": {
      "application/vnd.jupyter.widget-view+json": {
       "model_id": "602be2fec41546ef85c6d2ca6e9ff597",
       "version_major": 2,
       "version_minor": 0
      },
      "text/plain": [
       "Ranking:   0%|          | 0/8838 [00:00<?, ?it/s]"
      ]
     },
     "metadata": {},
     "output_type": "display_data"
    },
    {
     "name": "stdout",
     "output_type": "stream",
     "text": [
      "\n",
      "[SVD] Training started!\n",
      "\n",
      "[SVD] Evaluation started!\n"
     ]
    },
    {
     "data": {
      "application/vnd.jupyter.widget-view+json": {
       "model_id": "5a98e02dbcc2448d960a358b9d5ddc2f",
       "version_major": 2,
       "version_minor": 0
      },
      "text/plain": [
       "Ranking:   0%|          | 0/8838 [00:00<?, ?it/s]"
      ]
     },
     "metadata": {},
     "output_type": "display_data"
    },
    {
     "name": "stdout",
     "output_type": "stream",
     "text": [
      "\n",
      "TEST:\n",
      "...\n",
      "        |    MAP | NDCG@10 | Train (s) | Test (s)\n",
      "------- + ------ + ------- + --------- + --------\n",
      "MF      | 0.0008 |  0.0008 |    0.4661 |  81.2652\n",
      "PMF     | 0.0118 |  0.0136 |   20.8670 |  91.5825\n",
      "BPR     | 0.0343 |  0.0366 |   11.3920 |  81.5650\n",
      "MostPop | 0.0342 |  0.0368 |    0.0130 |  31.9570\n",
      "WBPR    | 0.0253 |  0.0320 |   20.0931 |  91.1635\n",
      "SVD     | 0.0007 |  0.0008 |    0.4670 |  87.0430\n",
      "\n"
     ]
    }
   ],
   "source": [
    "import cornac\n",
    "from cornac.eval_methods import RatioSplit\n",
    "from cornac.models import MF, PMF, BPR, MostPop, SVD, WBPR\n",
    "from cornac.metrics import MAE, RMSE, Precision, Recall, NDCG, AUC, MAP\n",
    "\n",
    "# initialize models\n",
    "models = [\n",
    "    MF(k=10, max_iter=25, learning_rate=0.01, lambda_reg=0.02, use_bias=True, seed=123),\n",
    "    PMF(k=10, max_iter=100, learning_rate=0.001, lambda_reg=0.001, seed=123),\n",
    "    BPR(k=10, max_iter=200, learning_rate=0.001, lambda_reg=0.01, seed=123),\n",
    "    MostPop(),\n",
    "    WBPR(k=10, max_iter=200, learning_rate=0.001, lambda_reg=0.001, seed=123),\n",
    "    SVD(k=10, max_iter=30, learning_rate=0.01, lambda_reg=0.02, seed=123)\n",
    "    \n",
    "]\n",
    "\n",
    "# define metrics to evaluate the models\n",
    "metrics = [NDCG(k=10), MAP()]\n",
    "\n",
    "# put it together in an experiment, voilà!\n",
    "cornac.Experiment(eval_method=ratio_split, models=models, metrics=metrics, user_based=True).run()+++++++++++"
   ]
  },
  {
   "cell_type": "code",
   "execution_count": null,
   "metadata": {},
   "outputs": [],
   "source": []
  }
 ],
 "metadata": {
  "kernelspec": {
   "display_name": "Python 3",
   "language": "python",
   "name": "python3"
  },
  "language_info": {
   "codemirror_mode": {
    "name": "ipython",
    "version": 3
   },
   "file_extension": ".py",
   "mimetype": "text/x-python",
   "name": "python",
   "nbconvert_exporter": "python",
   "pygments_lexer": "ipython3",
   "version": "3.7.9"
  }
 },
 "nbformat": 4,
 "nbformat_minor": 5
}
