{
 "cells": [
  {
   "cell_type": "markdown",
   "metadata": {},
   "source": [
    "# Librerías"
   ]
  },
  {
   "cell_type": "code",
   "execution_count": 1,
   "metadata": {},
   "outputs": [],
   "source": [
    "from collections import defaultdict\n",
    "import pandas as pd\n",
    "import ipywidgets as widgets\n",
    "from sklearn.metrics import pairwise_distances\n",
    "import numpy as np\n",
    "import random as rd"
   ]
  },
  {
   "cell_type": "markdown",
   "metadata": {},
   "source": [
    "# Importar datos preprocesados"
   ]
  },
  {
   "cell_type": "code",
   "execution_count": 2,
   "metadata": {},
   "outputs": [
    {
     "data": {
      "text/html": [
       "<div>\n",
       "<style scoped>\n",
       "    .dataframe tbody tr th:only-of-type {\n",
       "        vertical-align: middle;\n",
       "    }\n",
       "\n",
       "    .dataframe tbody tr th {\n",
       "        vertical-align: top;\n",
       "    }\n",
       "\n",
       "    .dataframe thead th {\n",
       "        text-align: right;\n",
       "    }\n",
       "</style>\n",
       "<table border=\"1\" class=\"dataframe\">\n",
       "  <thead>\n",
       "    <tr style=\"text-align: right;\">\n",
       "      <th></th>\n",
       "      <th>track_id</th>\n",
       "      <th>duration</th>\n",
       "      <th>year</th>\n",
       "      <th>us_popularity_estimate</th>\n",
       "      <th>acousticness</th>\n",
       "      <th>danceability</th>\n",
       "      <th>energy</th>\n",
       "      <th>instrumentalness</th>\n",
       "      <th>key</th>\n",
       "      <th>liveness</th>\n",
       "      <th>loudness</th>\n",
       "      <th>mode</th>\n",
       "      <th>speechiness</th>\n",
       "      <th>tempo</th>\n",
       "      <th>time_signature</th>\n",
       "      <th>valence</th>\n",
       "    </tr>\n",
       "  </thead>\n",
       "  <tbody>\n",
       "    <tr>\n",
       "      <th>0</th>\n",
       "      <td>t_a540e552-16d4-42f8-a185-232bd650ea7d</td>\n",
       "      <td>0.061365</td>\n",
       "      <td>0.964392</td>\n",
       "      <td>0.999754</td>\n",
       "      <td>0.458040</td>\n",
       "      <td>0.399767</td>\n",
       "      <td>0.817709</td>\n",
       "      <td>3.254327e-06</td>\n",
       "      <td>0</td>\n",
       "      <td>0.132124</td>\n",
       "      <td>0.187300</td>\n",
       "      <td>0</td>\n",
       "      <td>0.079985</td>\n",
       "      <td>0.760082</td>\n",
       "      <td>4</td>\n",
       "      <td>0.935512</td>\n",
       "    </tr>\n",
       "    <tr>\n",
       "      <th>1</th>\n",
       "      <td>t_67965da0-132b-4b1e-8a69-0ef99b32287c</td>\n",
       "      <td>0.104988</td>\n",
       "      <td>0.964392</td>\n",
       "      <td>0.999694</td>\n",
       "      <td>0.916272</td>\n",
       "      <td>0.491235</td>\n",
       "      <td>0.154258</td>\n",
       "      <td>8.344854e-12</td>\n",
       "      <td>0</td>\n",
       "      <td>0.163281</td>\n",
       "      <td>0.228433</td>\n",
       "      <td>0</td>\n",
       "      <td>0.083877</td>\n",
       "      <td>0.435429</td>\n",
       "      <td>3</td>\n",
       "      <td>0.359675</td>\n",
       "    </tr>\n",
       "    <tr>\n",
       "      <th>2</th>\n",
       "      <td>t_0614ecd3-a7d5-40a1-816e-156d5872a467</td>\n",
       "      <td>0.089967</td>\n",
       "      <td>0.964886</td>\n",
       "      <td>0.996025</td>\n",
       "      <td>0.812884</td>\n",
       "      <td>0.491625</td>\n",
       "      <td>0.358813</td>\n",
       "      <td>2.927475e-10</td>\n",
       "      <td>0</td>\n",
       "      <td>0.090115</td>\n",
       "      <td>0.175367</td>\n",
       "      <td>1</td>\n",
       "      <td>0.038777</td>\n",
       "      <td>0.480795</td>\n",
       "      <td>4</td>\n",
       "      <td>0.726769</td>\n",
       "    </tr>\n",
       "  </tbody>\n",
       "</table>\n",
       "</div>"
      ],
      "text/plain": [
       "                                 track_id  duration      year  \\\n",
       "0  t_a540e552-16d4-42f8-a185-232bd650ea7d  0.061365  0.964392   \n",
       "1  t_67965da0-132b-4b1e-8a69-0ef99b32287c  0.104988  0.964392   \n",
       "2  t_0614ecd3-a7d5-40a1-816e-156d5872a467  0.089967  0.964886   \n",
       "\n",
       "   us_popularity_estimate  acousticness  danceability    energy  \\\n",
       "0                0.999754      0.458040      0.399767  0.817709   \n",
       "1                0.999694      0.916272      0.491235  0.154258   \n",
       "2                0.996025      0.812884      0.491625  0.358813   \n",
       "\n",
       "   instrumentalness  key  liveness  loudness  mode  speechiness     tempo  \\\n",
       "0      3.254327e-06    0  0.132124  0.187300     0     0.079985  0.760082   \n",
       "1      8.344854e-12    0  0.163281  0.228433     0     0.083877  0.435429   \n",
       "2      2.927475e-10    0  0.090115  0.175367     1     0.038777  0.480795   \n",
       "\n",
       "   time_signature   valence  \n",
       "0               4  0.935512  \n",
       "1               3  0.359675  \n",
       "2               4  0.726769  "
      ]
     },
     "metadata": {},
     "output_type": "display_data"
    },
    {
     "data": {
      "text/html": [
       "<div>\n",
       "<style scoped>\n",
       "    .dataframe tbody tr th:only-of-type {\n",
       "        vertical-align: middle;\n",
       "    }\n",
       "\n",
       "    .dataframe tbody tr th {\n",
       "        vertical-align: top;\n",
       "    }\n",
       "\n",
       "    .dataframe thead th {\n",
       "        text-align: right;\n",
       "    }\n",
       "</style>\n",
       "<table border=\"1\" class=\"dataframe\">\n",
       "  <thead>\n",
       "    <tr style=\"text-align: right;\">\n",
       "      <th></th>\n",
       "      <th>session_id</th>\n",
       "      <th>track_id</th>\n",
       "    </tr>\n",
       "  </thead>\n",
       "  <tbody>\n",
       "    <tr>\n",
       "      <th>0</th>\n",
       "      <td>0_00006f66-33e5-4de7-a324-2d18e439fc1e</td>\n",
       "      <td>t_0479f24c-27d2-46d6-a00c-7ec928f2b539</td>\n",
       "    </tr>\n",
       "    <tr>\n",
       "      <th>1</th>\n",
       "      <td>0_00006f66-33e5-4de7-a324-2d18e439fc1e</td>\n",
       "      <td>t_9099cd7b-c238-47b7-9381-f23f2c1d1043</td>\n",
       "    </tr>\n",
       "    <tr>\n",
       "      <th>2</th>\n",
       "      <td>0_00006f66-33e5-4de7-a324-2d18e439fc1e</td>\n",
       "      <td>t_fc5df5ba-5396-49a7-8b29-35d0d28249e0</td>\n",
       "    </tr>\n",
       "  </tbody>\n",
       "</table>\n",
       "</div>"
      ],
      "text/plain": [
       "                               session_id  \\\n",
       "0  0_00006f66-33e5-4de7-a324-2d18e439fc1e   \n",
       "1  0_00006f66-33e5-4de7-a324-2d18e439fc1e   \n",
       "2  0_00006f66-33e5-4de7-a324-2d18e439fc1e   \n",
       "\n",
       "                                 track_id  \n",
       "0  t_0479f24c-27d2-46d6-a00c-7ec928f2b539  \n",
       "1  t_9099cd7b-c238-47b7-9381-f23f2c1d1043  \n",
       "2  t_fc5df5ba-5396-49a7-8b29-35d0d28249e0  "
      ]
     },
     "metadata": {},
     "output_type": "display_data"
    }
   ],
   "source": [
    "track_features = pd.read_csv('./data/processed_track_features.csv')\n",
    "sessions = pd.read_csv('./data/processed_sessions.csv')\n",
    "display(track_features.head(3))\n",
    "display(sessions.head(3))"
   ]
  },
  {
   "cell_type": "markdown",
   "metadata": {},
   "source": [
    "# Crear Top N verdadero por usuario"
   ]
  },
  {
   "cell_type": "code",
   "execution_count": 6,
   "metadata": {},
   "outputs": [],
   "source": [
    "# true_top_n_for_each_user es un diccionario de la forma\n",
    "# {usuario1: [canción1, canción2, ...], usuario2: [canción3, canción4,...], ...}\n",
    "# que contiene las canciones con las que ha interactuado un usuario. Consideraremos que si el\n",
    "# usuario ha interactuado con la canción, entonces la canción es relevante para el usuario.\n",
    "true_top_n_for_each_user = defaultdict(list)\n",
    "for i in sessions.index:\n",
    "    row = sessions.loc[i]\n",
    "    true_top_n_for_each_user[row['session_id']].append(row['track_id'])"
   ]
  },
  {
   "cell_type": "markdown",
   "metadata": {},
   "source": [
    "# Resultados"
   ]
  },
  {
   "cell_type": "markdown",
   "metadata": {},
   "source": [
    "## 1. Alpha-Beta Recommender"
   ]
  },
  {
   "cell_type": "markdown",
   "metadata": {},
   "source": [
    "Basado en práctico Content Based (Texto) (https://github.com/PUC-RecSys-Class/RecSysPUC-2022/blob/master/practicos/Content_Based_texto.ipynb)"
   ]
  },
  {
   "cell_type": "code",
   "execution_count": 7,
   "metadata": {},
   "outputs": [],
   "source": [
    "def find_similar_songs(sessions, track_features, alpha, beta, session_id=None, metric='cosine', topk=5):\n",
    "    \n",
    "    session_tracks = sessions[sessions.session_id == session_id]\n",
    "    tracks_played = session_tracks.merge(track_features, left_on=\"track_id\", right_on=\"track_id\")\n",
    "    tracks_not_played = track_features[~track_features.track_id.isin(tracks_played)]\n",
    "    initial_track = np.array(tracks_played.iloc[0].drop(labels=[\"session_id\", \"track_id\"]))\n",
    "    \n",
    "    embedding = tracks_not_played.drop(labels=\"track_id\", axis=1).values\n",
    "    not_played_distances = pairwise_distances(initial_track.reshape(1,-1), embedding, metric=metric)\n",
    "    tracks_not_played[\"distance\"] = not_played_distances[0]\n",
    "    tracks_not_played.sort_values(by=[\"distance\"])\n",
    "    \n",
    "    embedding= tracks_played.drop(labels=[\"session_id\", \"track_id\"], axis=1).values\n",
    "    played_distances = pairwise_distances(initial_track.reshape(1,-1), embedding, metric=metric)\n",
    "    tracks_played[\"distance\"] = played_distances[0]\n",
    "    tracks_played.sort_values(by=[\"distance\"])\n",
    "    \n",
    "    rec = []\n",
    "    \n",
    "    for i in range(topk):\n",
    "        # No escuchados\n",
    "        if rd.random() < alpha:\n",
    "            loc = int(beta*len(tracks_not_played)//1)\n",
    "            track = tracks_not_played.iloc[loc]\n",
    "            while track.track_id in rec:\n",
    "                loc += 1\n",
    "                track = tracks_not_played.iloc[loc]\n",
    "            rec.append(track.track_id)\n",
    "        # Ya escuchados\n",
    "        else:\n",
    "            loc = int(beta*len(tracks_played)//1)\n",
    "            if loc == 0:\n",
    "                loc += 1\n",
    "            track = tracks_played.iloc[loc]\n",
    "            while track.track_id in rec:\n",
    "                loc += 1\n",
    "                track = tracks_played.iloc[loc]\n",
    "            rec.append(track.track_id)\n",
    "    \n",
    "    return rec"
   ]
  },
  {
   "cell_type": "code",
   "execution_count": 8,
   "metadata": {},
   "outputs": [
    {
     "data": {
      "text/plain": [
       "'0_085131ec-8d9e-4cdd-afad-30b0086ecb27'"
      ]
     },
     "execution_count": 8,
     "metadata": {},
     "output_type": "execute_result"
    }
   ],
   "source": [
    "random_session = rd.choice(sessions.session_id.unique())\n",
    "random_session"
   ]
  },
  {
   "cell_type": "code",
   "execution_count": 9,
   "metadata": {},
   "outputs": [
    {
     "data": {
      "application/vnd.jupyter.widget-view+json": {
       "model_id": "546e4d30e8394c86893a719aec58ab29",
       "version_major": 2,
       "version_minor": 0
      },
      "text/plain": [
       "FloatSlider(value=0.0, description='alpha', max=1.0, step=0.01)"
      ]
     },
     "metadata": {},
     "output_type": "display_data"
    },
    {
     "data": {
      "application/vnd.jupyter.widget-view+json": {
       "model_id": "bcbd66f0ab114abd9103cb9c6052e57f",
       "version_major": 2,
       "version_minor": 0
      },
      "text/plain": [
       "FloatSlider(value=0.0, description='beta', max=1.0, step=0.01)"
      ]
     },
     "metadata": {},
     "output_type": "display_data"
    }
   ],
   "source": [
    "alpha = widgets.FloatSlider(min=0, max=1, step=0.01, description=\"alpha\")\n",
    "beta = widgets.FloatSlider(min=0, max=1, step=0.01, description=\"beta\")\n",
    "display(alpha)\n",
    "display(beta)"
   ]
  },
  {
   "cell_type": "code",
   "execution_count": 10,
   "metadata": {},
   "outputs": [
    {
     "data": {
      "text/plain": [
       "['t_7a6b27e8-04d9-4ccf-aca7-6a1510c46f87',\n",
       " 't_2a58f6bc-feb5-47f2-89bc-d1c28c14eff1',\n",
       " 't_f31f64f8-a30a-4cbb-9dc0-32ac8928f213',\n",
       " 't_f72c319b-0fad-48b9-9738-f97c608927fb',\n",
       " 't_fad4877b-4b36-414e-a995-9a545534fbd1']"
      ]
     },
     "execution_count": 10,
     "metadata": {},
     "output_type": "execute_result"
    }
   ],
   "source": [
    "rec = find_similar_songs(sessions, track_features, alpha.value, beta.value, session_id=random_session, \\\n",
    "                         metric='euclidean', topk=5)\n",
    "rec"
   ]
  },
  {
   "cell_type": "code",
   "execution_count": 11,
   "metadata": {},
   "outputs": [
    {
     "data": {
      "text/plain": [
       "['t_7a6b27e8-04d9-4ccf-aca7-6a1510c46f87',\n",
       " 't_2a58f6bc-feb5-47f2-89bc-d1c28c14eff1',\n",
       " 't_f31f64f8-a30a-4cbb-9dc0-32ac8928f213',\n",
       " 't_f72c319b-0fad-48b9-9738-f97c608927fb',\n",
       " 't_fad4877b-4b36-414e-a995-9a545534fbd1']"
      ]
     },
     "execution_count": 11,
     "metadata": {},
     "output_type": "execute_result"
    }
   ],
   "source": [
    "rec = find_similar_songs(sessions, track_features, alpha.value, beta.value, session_id=random_session, \\\n",
    "                         metric='cosine', topk=5)\n",
    "rec"
   ]
  },
  {
   "cell_type": "markdown",
   "metadata": {},
   "source": [
    "## 2. LightFM"
   ]
  }
 ],
 "metadata": {
  "kernelspec": {
   "display_name": "Python 3",
   "language": "python",
   "name": "python3"
  },
  "language_info": {
   "codemirror_mode": {
    "name": "ipython",
    "version": 3
   },
   "file_extension": ".py",
   "mimetype": "text/x-python",
   "name": "python",
   "nbconvert_exporter": "python",
   "pygments_lexer": "ipython3",
   "version": "3.8.10"
  },
  "vscode": {
   "interpreter": {
    "hash": "f285bb5f8983d1aafa033d6733ae0de2189f69ae4c0ee5aa1b3ca39129c61fab"
   }
  }
 },
 "nbformat": 4,
 "nbformat_minor": 2
}
