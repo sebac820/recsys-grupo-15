{
 "cells": [
  {
   "cell_type": "markdown",
   "metadata": {},
   "source": [
    "# Librerías"
   ]
  },
  {
   "cell_type": "code",
   "execution_count": 1,
   "metadata": {},
   "outputs": [],
   "source": [
    "from collections import defaultdict\n",
    "from metricas import dcg, idcg, average_precision, novelty_for_single_user, diversity_for_single_user\n",
    "from sklearn.metrics import pairwise_distances\n",
    "import numpy as np\n",
    "import pandas as pd\n",
    "import random as rd"
   ]
  },
  {
   "cell_type": "markdown",
   "metadata": {},
   "source": [
    "# Datasets"
   ]
  },
  {
   "cell_type": "code",
   "execution_count": 2,
   "metadata": {},
   "outputs": [
    {
     "data": {
      "text/html": [
       "<div>\n",
       "<style scoped>\n",
       "    .dataframe tbody tr th:only-of-type {\n",
       "        vertical-align: middle;\n",
       "    }\n",
       "\n",
       "    .dataframe tbody tr th {\n",
       "        vertical-align: top;\n",
       "    }\n",
       "\n",
       "    .dataframe thead th {\n",
       "        text-align: right;\n",
       "    }\n",
       "</style>\n",
       "<table border=\"1\" class=\"dataframe\">\n",
       "  <thead>\n",
       "    <tr style=\"text-align: right;\">\n",
       "      <th></th>\n",
       "      <th>session_id</th>\n",
       "      <th>track_id</th>\n",
       "    </tr>\n",
       "  </thead>\n",
       "  <tbody>\n",
       "    <tr>\n",
       "      <th>0</th>\n",
       "      <td>0_00006f66-33e5-4de7-a324-2d18e439fc1e</td>\n",
       "      <td>t_0479f24c-27d2-46d6-a00c-7ec928f2b539</td>\n",
       "    </tr>\n",
       "    <tr>\n",
       "      <th>1</th>\n",
       "      <td>0_00006f66-33e5-4de7-a324-2d18e439fc1e</td>\n",
       "      <td>t_9099cd7b-c238-47b7-9381-f23f2c1d1043</td>\n",
       "    </tr>\n",
       "    <tr>\n",
       "      <th>2</th>\n",
       "      <td>0_00006f66-33e5-4de7-a324-2d18e439fc1e</td>\n",
       "      <td>t_fc5df5ba-5396-49a7-8b29-35d0d28249e0</td>\n",
       "    </tr>\n",
       "    <tr>\n",
       "      <th>3</th>\n",
       "      <td>0_00006f66-33e5-4de7-a324-2d18e439fc1e</td>\n",
       "      <td>t_23cff8d6-d874-4b20-83dc-94e450e8aa20</td>\n",
       "    </tr>\n",
       "    <tr>\n",
       "      <th>4</th>\n",
       "      <td>0_00006f66-33e5-4de7-a324-2d18e439fc1e</td>\n",
       "      <td>t_64f3743c-f624-46bb-a579-0f3f9a07a123</td>\n",
       "    </tr>\n",
       "  </tbody>\n",
       "</table>\n",
       "</div>"
      ],
      "text/plain": [
       "                               session_id  \\\n",
       "0  0_00006f66-33e5-4de7-a324-2d18e439fc1e   \n",
       "1  0_00006f66-33e5-4de7-a324-2d18e439fc1e   \n",
       "2  0_00006f66-33e5-4de7-a324-2d18e439fc1e   \n",
       "3  0_00006f66-33e5-4de7-a324-2d18e439fc1e   \n",
       "4  0_00006f66-33e5-4de7-a324-2d18e439fc1e   \n",
       "\n",
       "                                 track_id  \n",
       "0  t_0479f24c-27d2-46d6-a00c-7ec928f2b539  \n",
       "1  t_9099cd7b-c238-47b7-9381-f23f2c1d1043  \n",
       "2  t_fc5df5ba-5396-49a7-8b29-35d0d28249e0  \n",
       "3  t_23cff8d6-d874-4b20-83dc-94e450e8aa20  \n",
       "4  t_64f3743c-f624-46bb-a579-0f3f9a07a123  "
      ]
     },
     "execution_count": 2,
     "metadata": {},
     "output_type": "execute_result"
    }
   ],
   "source": [
    "track_features = pd.read_csv('./data/processed_track_features.csv')\n",
    "sessions = pd.read_csv('./data/processed_sessions.csv')\n",
    "sessions.head()"
   ]
  },
  {
   "cell_type": "markdown",
   "metadata": {},
   "source": [
    "# Preparaciones"
   ]
  },
  {
   "cell_type": "code",
   "execution_count": 3,
   "metadata": {},
   "outputs": [],
   "source": [
    "user_histories = defaultdict(list)\n",
    "for i in sessions.index:\n",
    "    row = sessions.loc[i]\n",
    "    user_histories[row['session_id']].append(row['track_id'])\n",
    "for user_id in user_histories.keys():\n",
    "    user_histories[user_id] = np.array(user_histories[user_id])"
   ]
  },
  {
   "cell_type": "code",
   "execution_count": 4,
   "metadata": {},
   "outputs": [],
   "source": [
    "edited_track_features = track_features.rename(columns={'track_id': 'item_id'}).set_index('item_id')\n",
    "edited_sessions = sessions.rename(columns={'session_id': 'user_id', 'track_id': 'item_id'})"
   ]
  },
  {
   "cell_type": "markdown",
   "metadata": {},
   "source": [
    "# Modelo"
   ]
  },
  {
   "cell_type": "code",
   "execution_count": 5,
   "metadata": {},
   "outputs": [],
   "source": [
    "class AlphaBetaRecommender:\n",
    "\n",
    "    def __init__(self, item_features: pd.DataFrame, interactions: pd.DataFrame) -> None:\n",
    "        self.item_features = item_features\n",
    "        self.user_histories = defaultdict(list)\n",
    "        for i in interactions.index:\n",
    "            row = interactions.loc[i]\n",
    "            self.user_histories[row['user_id']].append(row['item_id'])\n",
    "        for user_id in self.user_histories.keys():\n",
    "            user_histories[user_id] = np.array(user_histories[user_id])\n",
    "    \n",
    "    def recommend(self, user_id: str, alpha: float, beta: float, number_of_recommendations=10):\n",
    "        user_history_ids = self.user_histories[user_id]\n",
    "        recommendations = []\n",
    "        # Primero, recomendar la proporción de canciones conocidas dada por 1-alpha:\n",
    "        for _ in np.arange(round((1 - alpha) * number_of_recommendations)):\n",
    "            recommendations.append(rd.choice(user_history_ids))\n",
    "        # Luego, rellenar con canciones con distancia dada por beta hasta alcanzar number_of_recommendations.\n",
    "        user_history_features = np.array(self.item_features.loc[user_history_ids].mean()) \n",
    "        distance_ranking = pd.DataFrame()\n",
    "        distance_ranking.index = self.item_features.index\n",
    "        distance_ranking.loc[:, 'distances'] = pairwise_distances(\n",
    "            X=user_history_features.reshape(1, -1),\n",
    "            Y=self.item_features,\n",
    "            metric='cosine'\n",
    "        )[0]\n",
    "        distance_ranking = distance_ranking.sort_values(by='distances')\n",
    "        while len(recommendations) < number_of_recommendations:\n",
    "            lower_index = round(beta * distance_ranking.shape[0])\n",
    "            upper_index = lower_index + number_of_recommendations\n",
    "            if upper_index >= distance_ranking.shape[0]:\n",
    "                upper_index = distance_ranking.shape[0]\n",
    "                lower_index = upper_index - number_of_recommendations\n",
    "            recommendations += list(distance_ranking.iloc[lower_index:upper_index].index)\n",
    "        return np.array(recommendations)"
   ]
  },
  {
   "cell_type": "code",
   "execution_count": 6,
   "metadata": {},
   "outputs": [
    {
     "data": {
      "text/plain": [
       "array(['t_fc5df5ba-5396-49a7-8b29-35d0d28249e0',\n",
       "       't_87d95b75-af5c-4ef6-8dc4-cd888ae17cce',\n",
       "       't_59dc3fcd-7aec-4da5-a747-b59b19bab3bb',\n",
       "       't_c815228b-3212-4f9e-9d4f-9cb19b248184',\n",
       "       't_358c9cce-7a1e-4dd4-81de-206dda80363f',\n",
       "       't_685e1ab0-b86c-42ba-9c19-dfd1049a1eed',\n",
       "       't_e4648ae2-6c81-4d9f-9e5d-19d8dfe62824',\n",
       "       't_60141c22-11d4-4b3b-9cb5-eb997e4b0f26',\n",
       "       't_0d0c966d-fc20-4e45-a430-ff392195c0e4',\n",
       "       't_fc14e596-3ce1-43d1-87e2-038534a5ea5d',\n",
       "       't_edd2295c-9843-4a1c-9b11-84f3658c5e95',\n",
       "       't_1f56b84c-941d-4b57-a927-afdfe287568f',\n",
       "       't_1ca2fe11-a289-4cd7-ab2a-14e53d4122bd',\n",
       "       't_613f889d-2450-46d2-ae24-d6a0d668e0f6',\n",
       "       't_98c00dfe-beb6-4a40-9946-86cfedffb64f'], dtype='<U38')"
      ]
     },
     "execution_count": 6,
     "metadata": {},
     "output_type": "execute_result"
    }
   ],
   "source": [
    "alpha_beta_recommender = AlphaBetaRecommender(item_features=edited_track_features, interactions=edited_sessions)\n",
    "alpha_beta_recommender.recommend('0_00006f66-33e5-4de7-a324-2d18e439fc1e', 0.5, 0.5)"
   ]
  },
  {
   "cell_type": "code",
   "execution_count": 7,
   "metadata": {},
   "outputs": [
    {
     "name": "stdout",
     "output_type": "stream",
     "text": [
      "\n",
      "alpha = 0, beta = 0\n",
      "NDCG@10: 0.6758093255826711\n",
      "MAP@10: 0.7451784499716592\n",
      "Novelty: 0.1540788732940982\n",
      "Diversity: 0.15421483370907788\n",
      "\n",
      "alpha = 0, beta = 0.3\n",
      "NDCG@10: 0.675988926948734\n",
      "MAP@10: 0.7447972752110126\n",
      "Novelty: 0.15408443648592754\n",
      "Diversity: 0.15408715080450058\n",
      "\n",
      "alpha = 0, beta = 0.7\n",
      "NDCG@10: 0.6765732656672353\n",
      "MAP@10: 0.7454687118134292\n",
      "Novelty: 0.15422633610619146\n",
      "Diversity: 0.15417863459162034\n",
      "\n",
      "alpha = 0, beta = 1\n",
      "NDCG@10: 0.6746148318558681\n",
      "MAP@10: 0.7461064703640723\n",
      "Novelty: 0.15453394748959734\n",
      "Diversity: 0.15486807642040984\n"
     ]
    }
   ],
   "source": [
    "unique_session_ids = sessions['session_id'].unique()\n",
    "unique_session_ids_length = len(unique_session_ids)\n",
    "alphas = (0, 0.3, 0.7, 1)\n",
    "betas = (0, 0.3, 0.7, 1)\n",
    "for alpha in alphas:\n",
    "    for beta in betas:\n",
    "        ndcg = 0\n",
    "        mean_average_precision = 0\n",
    "        novelty = 0\n",
    "        diversity = 0\n",
    "        for session_id in unique_session_ids:\n",
    "            recommendations = alpha_beta_recommender.recommend(session_id, alpha, beta)\n",
    "            user_history = user_histories[session_id]\n",
    "            ndcg += dcg(user_history, recommendations, 10)\n",
    "            mean_average_precision += average_precision(user_history, recommendations, 10)\n",
    "            novelty += novelty_for_single_user(user_history, recommendations, edited_track_features)\n",
    "            diversity += diversity_for_single_user(recommendations, edited_track_features)\n",
    "        print(f'\\nalpha = {alpha}, beta = {beta}')\n",
    "        print('NDCG@10:', ndcg / idcg(10) / unique_session_ids_length)\n",
    "        print('MAP@10:', mean_average_precision / unique_session_ids_length)\n",
    "        print('Novelty:', novelty / unique_session_ids_length)\n",
    "        print('Diversity:', diversity / unique_session_ids_length)"
   ]
  }
 ],
 "metadata": {
  "kernelspec": {
   "display_name": "Python 3.8.10 64-bit",
   "language": "python",
   "name": "python3"
  },
  "language_info": {
   "codemirror_mode": {
    "name": "ipython",
    "version": 3
   },
   "file_extension": ".py",
   "mimetype": "text/x-python",
   "name": "python",
   "nbconvert_exporter": "python",
   "pygments_lexer": "ipython3",
   "version": "3.8.10"
  },
  "orig_nbformat": 4,
  "vscode": {
   "interpreter": {
    "hash": "f285bb5f8983d1aafa033d6733ae0de2189f69ae4c0ee5aa1b3ca39129c61fab"
   }
  }
 },
 "nbformat": 4,
 "nbformat_minor": 2
}
