{
 "cells": [
  {
   "cell_type": "markdown",
   "metadata": {},
   "source": [
    "# Librerías"
   ]
  },
  {
   "cell_type": "code",
   "execution_count": 1,
   "metadata": {},
   "outputs": [],
   "source": [
    "from collections import defaultdict\n",
    "from metricas import dcg, idcg, average_precision, novelty_for_single_user, diversity_for_single_user\n",
    "from sklearn.metrics import pairwise_distances\n",
    "import numpy as np\n",
    "import pandas as pd"
   ]
  },
  {
   "cell_type": "markdown",
   "metadata": {},
   "source": [
    "# Datasets"
   ]
  },
  {
   "cell_type": "code",
   "execution_count": 2,
   "metadata": {},
   "outputs": [
    {
     "data": {
      "text/html": [
       "<div>\n",
       "<style scoped>\n",
       "    .dataframe tbody tr th:only-of-type {\n",
       "        vertical-align: middle;\n",
       "    }\n",
       "\n",
       "    .dataframe tbody tr th {\n",
       "        vertical-align: top;\n",
       "    }\n",
       "\n",
       "    .dataframe thead th {\n",
       "        text-align: right;\n",
       "    }\n",
       "</style>\n",
       "<table border=\"1\" class=\"dataframe\">\n",
       "  <thead>\n",
       "    <tr style=\"text-align: right;\">\n",
       "      <th></th>\n",
       "      <th>session_id</th>\n",
       "      <th>track_id</th>\n",
       "    </tr>\n",
       "  </thead>\n",
       "  <tbody>\n",
       "    <tr>\n",
       "      <th>0</th>\n",
       "      <td>0_00006f66-33e5-4de7-a324-2d18e439fc1e</td>\n",
       "      <td>t_0479f24c-27d2-46d6-a00c-7ec928f2b539</td>\n",
       "    </tr>\n",
       "    <tr>\n",
       "      <th>1</th>\n",
       "      <td>0_00006f66-33e5-4de7-a324-2d18e439fc1e</td>\n",
       "      <td>t_9099cd7b-c238-47b7-9381-f23f2c1d1043</td>\n",
       "    </tr>\n",
       "    <tr>\n",
       "      <th>2</th>\n",
       "      <td>0_00006f66-33e5-4de7-a324-2d18e439fc1e</td>\n",
       "      <td>t_fc5df5ba-5396-49a7-8b29-35d0d28249e0</td>\n",
       "    </tr>\n",
       "    <tr>\n",
       "      <th>3</th>\n",
       "      <td>0_00006f66-33e5-4de7-a324-2d18e439fc1e</td>\n",
       "      <td>t_23cff8d6-d874-4b20-83dc-94e450e8aa20</td>\n",
       "    </tr>\n",
       "    <tr>\n",
       "      <th>4</th>\n",
       "      <td>0_00006f66-33e5-4de7-a324-2d18e439fc1e</td>\n",
       "      <td>t_64f3743c-f624-46bb-a579-0f3f9a07a123</td>\n",
       "    </tr>\n",
       "  </tbody>\n",
       "</table>\n",
       "</div>"
      ],
      "text/plain": [
       "                               session_id  \\\n",
       "0  0_00006f66-33e5-4de7-a324-2d18e439fc1e   \n",
       "1  0_00006f66-33e5-4de7-a324-2d18e439fc1e   \n",
       "2  0_00006f66-33e5-4de7-a324-2d18e439fc1e   \n",
       "3  0_00006f66-33e5-4de7-a324-2d18e439fc1e   \n",
       "4  0_00006f66-33e5-4de7-a324-2d18e439fc1e   \n",
       "\n",
       "                                 track_id  \n",
       "0  t_0479f24c-27d2-46d6-a00c-7ec928f2b539  \n",
       "1  t_9099cd7b-c238-47b7-9381-f23f2c1d1043  \n",
       "2  t_fc5df5ba-5396-49a7-8b29-35d0d28249e0  \n",
       "3  t_23cff8d6-d874-4b20-83dc-94e450e8aa20  \n",
       "4  t_64f3743c-f624-46bb-a579-0f3f9a07a123  "
      ]
     },
     "execution_count": 2,
     "metadata": {},
     "output_type": "execute_result"
    }
   ],
   "source": [
    "track_features = pd.read_csv('./data/processed_track_features.csv')\n",
    "sessions = pd.read_csv('./data/processed_sessions.csv')\n",
    "sessions.head()"
   ]
  },
  {
   "cell_type": "markdown",
   "metadata": {},
   "source": [
    "# Preparaciones"
   ]
  },
  {
   "cell_type": "code",
   "execution_count": 3,
   "metadata": {},
   "outputs": [],
   "source": [
    "user_histories = defaultdict(list)\n",
    "for i in sessions.index:\n",
    "    row = sessions.loc[i]\n",
    "    user_histories[row['session_id']].append(row['track_id'])\n",
    "for user_id in user_histories.keys():\n",
    "    user_histories[user_id] = np.array(user_histories[user_id])"
   ]
  },
  {
   "cell_type": "code",
   "execution_count": 4,
   "metadata": {},
   "outputs": [],
   "source": [
    "edited_track_features = track_features.rename(columns={'track_id': 'item_id'}).set_index('item_id')\n",
    "edited_sessions = sessions.rename(columns={'session_id': 'user_id', 'track_id': 'item_id'})"
   ]
  },
  {
   "cell_type": "markdown",
   "metadata": {},
   "source": [
    "# Modelo"
   ]
  },
  {
   "cell_type": "code",
   "execution_count": 5,
   "metadata": {},
   "outputs": [],
   "source": [
    "class AlphaBetaRecommender:\n",
    "\n",
    "    def __init__(self, item_features: pd.DataFrame, interactions: pd.DataFrame, number_of_recommendations=10) -> None:\n",
    "        self.item_features = item_features\n",
    "\n",
    "        self.user_histories = defaultdict(list)\n",
    "        for i in interactions.index:\n",
    "            row = interactions.loc[i]\n",
    "            self.user_histories[row['user_id']].append(row['item_id'])\n",
    "        for user_id in self.user_histories.keys():\n",
    "            user_histories[user_id] = np.array(user_histories[user_id])\n",
    "\n",
    "        self.number_of_recommendations = np.arange(number_of_recommendations)\n",
    "\n",
    "        self.max_alpha_jump = 0.2 * self.item_features.shape[0] // 1\n",
    "        self.max_beta_jump = 0.02 * self.item_features.shape[0] // 1\n",
    "        self.set_alpha_and_beta(0, 0)\n",
    "    \n",
    "    def get_distance_ranking(self, user_id: np.ndarray):\n",
    "        user_history_ids = self.user_histories[user_id]\n",
    "        user_feature_vector = np.array(self.item_features.loc[user_history_ids].mean())\n",
    "        distance_ranking = pd.DataFrame()\n",
    "        distance_ranking.index = self.item_features.index\n",
    "        distance_ranking.loc[:, 'distances'] = pairwise_distances(\n",
    "            X=user_feature_vector.reshape(1, -1),\n",
    "            Y=self.item_features,\n",
    "            metric='cosine'\n",
    "        )[0]\n",
    "        return distance_ranking.sort_values(by='distances')\n",
    "\n",
    "    def recommend(self, user_id: str):\n",
    "        distance_ranking = self.get_distance_ranking(user_id)\n",
    "        recommendations = distance_ranking.iloc[self.jumps].index\n",
    "        return np.array(recommendations)\n",
    "\n",
    "    def set_alpha_and_beta(self, alpha: float, beta: float):\n",
    "        self.jumps = []\n",
    "        alpha_jump = int(alpha * self.max_alpha_jump // 1)\n",
    "        beta_jump = int(beta * self.max_beta_jump // 1)\n",
    "        jump = alpha_jump\n",
    "        for _ in self.number_of_recommendations:\n",
    "            self.jumps.append(jump)\n",
    "            jump += beta_jump"
   ]
  },
  {
   "cell_type": "code",
   "execution_count": 6,
   "metadata": {},
   "outputs": [
    {
     "data": {
      "text/plain": [
       "array(['t_3790a7f8-cbaf-4772-8b8a-e56bcfe4626e',\n",
       "       't_6845d878-45c3-4ae6-939b-6411646a6303',\n",
       "       't_1a6c16ba-3ee7-4853-bf8a-5a25b1238d37',\n",
       "       't_0ecc42e8-96ae-4804-9434-42ff99b7422e',\n",
       "       't_728a2528-9867-4c0b-b1f5-66f2f8337daa',\n",
       "       't_22ce6dbc-baf4-4782-9a97-1f22b16deb55',\n",
       "       't_94841b38-fa73-4620-a6d9-5f51d6d0aa52',\n",
       "       't_e55a30c5-4ed7-4e84-9301-4f276f6a06b3',\n",
       "       't_f9163204-3b05-4b5b-a681-9efead596fa2',\n",
       "       't_ca1b09f4-3c1a-4104-8a25-4b36ed193c27'], dtype=object)"
      ]
     },
     "execution_count": 6,
     "metadata": {},
     "output_type": "execute_result"
    }
   ],
   "source": [
    "alpha_beta_recommender = AlphaBetaRecommender(\n",
    "    item_features=edited_track_features,\n",
    "    interactions=edited_sessions,\n",
    "    number_of_recommendations=10\n",
    ")\n",
    "alpha_beta_recommender.set_alpha_and_beta(0.5, 0.5)\n",
    "alpha_beta_recommender.recommend('0_00006f66-33e5-4de7-a324-2d18e439fc1e')"
   ]
  },
  {
   "cell_type": "markdown",
   "metadata": {},
   "source": [
    "# Resultados"
   ]
  },
  {
   "cell_type": "code",
   "execution_count": 7,
   "metadata": {},
   "outputs": [
    {
     "name": "stdout",
     "output_type": "stream",
     "text": [
      "\n",
      "alpha = 0, beta = 0\n"
     ]
    }
   ],
   "source": [
    "unique_session_ids = sessions['session_id'].unique()\n",
    "unique_session_ids_length = len(unique_session_ids)\n",
    "alphas = (0, 0.3, 0.7, 1)\n",
    "betas = (0, 0.3, 0.7, 1)\n",
    "for alpha in alphas:\n",
    "    for beta in betas:\n",
    "        ndcg = 0\n",
    "        mean_average_precision = 0\n",
    "        novelty = 0\n",
    "        diversity = 0\n",
    "        alpha_beta_recommender.set_alpha_and_beta(alpha, beta)\n",
    "        print(f'\\nalpha = {alpha}, beta = {beta}')\n",
    "        for session_id in unique_session_ids:\n",
    "            recommendations = alpha_beta_recommender.recommend(session_id)\n",
    "            user_history = user_histories[session_id]\n",
    "            ndcg += dcg(user_history, recommendations, 10)\n",
    "            mean_average_precision += average_precision(user_history, recommendations, 10)\n",
    "            novelty += novelty_for_single_user(user_history, recommendations, edited_track_features)\n",
    "            diversity += diversity_for_single_user(recommendations, edited_track_features)\n",
    "        print('NDCG@10:', ndcg / idcg(10) / unique_session_ids_length)\n",
    "        print('MAP@10:', mean_average_precision / unique_session_ids_length)\n",
    "        print('Novelty:', novelty / unique_session_ids_length)\n",
    "        print('Diversity:', diversity / unique_session_ids_length)"
   ]
  }
 ],
 "metadata": {
  "kernelspec": {
   "display_name": "Python 3.8.10 64-bit",
   "language": "python",
   "name": "python3"
  },
  "language_info": {
   "codemirror_mode": {
    "name": "ipython",
    "version": 3
   },
   "file_extension": ".py",
   "mimetype": "text/x-python",
   "name": "python",
   "nbconvert_exporter": "python",
   "pygments_lexer": "ipython3",
   "version": "3.8.10"
  },
  "orig_nbformat": 4,
  "vscode": {
   "interpreter": {
    "hash": "f285bb5f8983d1aafa033d6733ae0de2189f69ae4c0ee5aa1b3ca39129c61fab"
   }
  }
 },
 "nbformat": 4,
 "nbformat_minor": 2
}
