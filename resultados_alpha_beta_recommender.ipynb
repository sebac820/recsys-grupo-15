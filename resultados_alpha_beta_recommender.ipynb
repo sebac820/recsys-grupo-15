{
 "cells": [
  {
   "cell_type": "markdown",
   "metadata": {},
   "source": [
    "# Librerías"
   ]
  },
  {
   "cell_type": "code",
   "execution_count": null,
   "metadata": {},
   "outputs": [],
   "source": [
    "from collections import defaultdict\n",
    "from metricas import dcg, idcg, average_precision, novelty_for_single_user, diversity_for_single_user\n",
    "from sklearn.metrics import pairwise_distances\n",
    "import numpy as np\n",
    "import pandas as pd\n",
    "import random as rd"
   ]
  },
  {
   "cell_type": "markdown",
   "metadata": {},
   "source": [
    "# Datasets"
   ]
  },
  {
   "cell_type": "code",
   "execution_count": null,
   "metadata": {},
   "outputs": [],
   "source": [
    "track_features = pd.read_csv('./data/processed_track_features.csv')\n",
    "sessions = pd.read_csv('./data/processed_sessions.csv')\n",
    "sessions.head()"
   ]
  },
  {
   "cell_type": "markdown",
   "metadata": {},
   "source": [
    "# Preparaciones"
   ]
  },
  {
   "cell_type": "code",
   "execution_count": null,
   "metadata": {},
   "outputs": [],
   "source": [
    "user_histories = defaultdict(list)\n",
    "for i in sessions.index:\n",
    "    row = sessions.loc[i]\n",
    "    user_histories[row['session_id']].append(row['track_id'])\n",
    "for user_id in user_histories.keys():\n",
    "    user_histories[user_id] = np.array(user_histories[user_id])"
   ]
  },
  {
   "cell_type": "code",
   "execution_count": null,
   "metadata": {},
   "outputs": [],
   "source": [
    "edited_track_features = track_features.rename(columns={'track_id': 'item_id'}).set_index('item_id')\n",
    "edited_sessions = sessions.rename(columns={'session_id': 'user_id', 'track_id': 'item_id'})"
   ]
  },
  {
   "cell_type": "markdown",
   "metadata": {},
   "source": [
    "# Modelo"
   ]
  },
  {
   "cell_type": "code",
   "execution_count": null,
   "metadata": {},
   "outputs": [],
   "source": [
    "class AlphaBetaRecommender:\n",
    "\n",
    "    def __init__(self, item_features: pd.DataFrame, interactions: pd.DataFrame) -> None:\n",
    "        self.item_features = item_features\n",
    "        self.user_histories = defaultdict(list)\n",
    "        for i in interactions.index:\n",
    "            row = interactions.loc[i]\n",
    "            self.user_histories[row['user_id']].append(row['item_id'])\n",
    "        for user_id in self.user_histories.keys():\n",
    "            user_histories[user_id] = np.array(user_histories[user_id])\n",
    "    \n",
    "    def recommend(self, user_id: str, alpha: float, beta: float, number_of_recommendations=10):\n",
    "        user_history_ids = self.user_histories[user_id]\n",
    "        recommendations = []\n",
    "        # Primero, recomendar la proporción de canciones conocidas dada por 1-alpha:\n",
    "        for _ in np.arange(round((1 - alpha) * number_of_recommendations)):\n",
    "            recommendations.append(rd.choice(user_history_ids))\n",
    "        # Luego, rellenar con canciones con distancia dada por beta hasta alcanzar number_of_recommendations.\n",
    "        user_history_features = np.array(self.item_features.loc[user_history_ids].mean()) \n",
    "        distance_ranking = pd.DataFrame()\n",
    "        distance_ranking.index = self.item_features.index\n",
    "        distance_ranking.loc[:, 'distances'] = pairwise_distances(\n",
    "            X=user_history_features.reshape(1, -1),\n",
    "            Y=self.item_features,\n",
    "            metric='cosine'\n",
    "        )[0]\n",
    "        distance_ranking = distance_ranking.sort_values(by='distances')\n",
    "        while len(recommendations) < number_of_recommendations:\n",
    "            lower_index = round(beta * distance_ranking.shape[0])\n",
    "            upper_index = lower_index + number_of_recommendations\n",
    "            if upper_index >= distance_ranking.shape[0]:\n",
    "                upper_index = distance_ranking.shape[0]\n",
    "                lower_index = upper_index - number_of_recommendations\n",
    "            recommendations += list(distance_ranking.iloc[lower_index:upper_index].index)\n",
    "        return np.array(recommendations)"
   ]
  },
  {
   "cell_type": "code",
   "execution_count": null,
   "metadata": {},
   "outputs": [],
   "source": [
    "alpha_beta_recommender = AlphaBetaRecommender(item_features=edited_track_features, interactions=edited_sessions)\n",
    "alpha_beta_recommender.recommend('0_00006f66-33e5-4de7-a324-2d18e439fc1e', 0.5, 0.5)"
   ]
  },
  {
   "cell_type": "code",
   "execution_count": null,
   "metadata": {},
   "outputs": [],
   "source": [
    "unique_session_ids = sessions['session_id'].unique()\n",
    "unique_session_ids_length = len(unique_session_ids)\n",
    "alphas = (0, 0.3, 0.7, 1)\n",
    "betas = (0, 0.3, 0.7, 1)\n",
    "for alpha in alphas:\n",
    "    for beta in betas:\n",
    "        ndcg = 0\n",
    "        mean_average_precision = 0\n",
    "        novelty = 0\n",
    "        diversity = 0\n",
    "        for session_id in unique_session_ids:\n",
    "            recommendations = alpha_beta_recommender.recommend(session_id, alpha, beta)\n",
    "            user_history = user_histories[session_id]\n",
    "            ndcg += dcg(user_history, recommendations, 10)\n",
    "            mean_average_precision += average_precision(user_history, recommendations, 10)\n",
    "            novelty += novelty_for_single_user(user_history, recommendations, edited_track_features)\n",
    "            diversity += diversity_for_single_user(recommendations, edited_track_features)\n",
    "        print(f'\\nalpha = {alpha}, beta = {beta}')\n",
    "        print('NDCG@10:', ndcg / idcg(10) / unique_session_ids_length)\n",
    "        print('MAP@10:', mean_average_precision / unique_session_ids_length)\n",
    "        print('Novelty:', novelty / unique_session_ids_length)\n",
    "        print('Diversity:', diversity / unique_session_ids_length)"
   ]
  }
 ],
 "metadata": {
  "kernelspec": {
   "display_name": "Python 3.8.10 64-bit",
   "language": "python",
   "name": "python3"
  },
  "language_info": {
   "codemirror_mode": {
    "name": "ipython",
    "version": 3
   },
   "file_extension": ".py",
   "mimetype": "text/x-python",
   "name": "python",
   "nbconvert_exporter": "python",
   "pygments_lexer": "ipython3",
   "version": "3.8.10"
  },
  "orig_nbformat": 4,
  "vscode": {
   "interpreter": {
    "hash": "f285bb5f8983d1aafa033d6733ae0de2189f69ae4c0ee5aa1b3ca39129c61fab"
   }
  }
 },
 "nbformat": 4,
 "nbformat_minor": 2
}
